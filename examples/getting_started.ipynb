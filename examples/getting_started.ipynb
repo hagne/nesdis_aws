{
 "cells": [
  {
   "cell_type": "code",
   "execution_count": null,
   "metadata": {},
   "outputs": [],
   "source": []
  },
  {
   "cell_type": "markdown",
   "metadata": {},
   "source": [
    "# Intro"
   ]
  },
  {
   "cell_type": "markdown",
   "metadata": {},
   "source": [
    "This notebook describes how to download NESDIS satellite data from the the Amazon cloud serves (AWS) using the nesdis_aws library. nesdis_aws is a wrapper around the s3fs library which is briefly intorduced further down on this page."
   ]
  },
  {
   "cell_type": "markdown",
   "metadata": {},
   "source": [
    "For info on the available data projects go to: https://docs.opendata.aws/noaa-goes16/cics-readme.html"
   ]
  },
  {
   "cell_type": "markdown",
   "metadata": {},
   "source": [
    "# imports"
   ]
  },
  {
   "cell_type": "code",
   "execution_count": 1,
   "metadata": {},
   "outputs": [],
   "source": [
    "# Module to interface with s3 (AWS)\n",
    "import s3fs\n",
    "import pathlib as pl"
   ]
  },
  {
   "cell_type": "markdown",
   "metadata": {},
   "source": [
    "# The nesdis_aws package"
   ]
  },
  {
   "cell_type": "markdown",
   "metadata": {},
   "source": [
    "availble here: https://github.com/hagne/nesdis_aws"
   ]
  },
  {
   "cell_type": "code",
   "execution_count": 1,
   "metadata": {},
   "outputs": [],
   "source": [
    "import nesdis_aws"
   ]
  },
  {
   "cell_type": "code",
   "execution_count": 3,
   "metadata": {},
   "outputs": [
    {
     "name": "stdout",
     "output_type": "stream",
     "text": [
      "follow link for readme: https://docs.opendata.aws/noaa-goes16/cics-readme.html\n"
     ]
    }
   ],
   "source": [
    "nesdis_aws.nesdis_aws.readme()"
   ]
  },
  {
   "cell_type": "markdown",
   "metadata": {},
   "source": [
    "### product information"
   ]
  },
  {
   "cell_type": "code",
   "execution_count": 117,
   "metadata": {},
   "outputs": [
    {
     "data": {
      "text/plain": [
       "<module 'nesdis_aws.nesdis_aws' from '/mnt/telg/prog/nesdis_aws/nesdis_aws/nesdis_aws.py'>"
      ]
     },
     "execution_count": 117,
     "metadata": {},
     "output_type": "execute_result"
    }
   ],
   "source": [
    "reload(nesdis_aws)\n",
    "reload(nesdis_aws.nesdis_aws)"
   ]
  },
  {
   "cell_type": "code",
   "execution_count": 100,
   "metadata": {},
   "outputs": [],
   "source": [
    "available_products = nesdis_aws.nesdis_aws.get_available_products()"
   ]
  },
  {
   "cell_type": "code",
   "execution_count": 108,
   "metadata": {},
   "outputs": [
    {
     "data": {
      "text/html": [
       "<div>\n",
       "<style scoped>\n",
       "    .dataframe tbody tr th:only-of-type {\n",
       "        vertical-align: middle;\n",
       "    }\n",
       "\n",
       "    .dataframe tbody tr th {\n",
       "        vertical-align: top;\n",
       "    }\n",
       "\n",
       "    .dataframe thead th {\n",
       "        text-align: right;\n",
       "    }\n",
       "</style>\n",
       "<table border=\"1\" class=\"dataframe\">\n",
       "  <thead>\n",
       "    <tr style=\"text-align: right;\">\n",
       "      <th></th>\n",
       "      <th>16-C</th>\n",
       "      <th>16-F</th>\n",
       "      <th>16-M</th>\n",
       "      <th>17-C</th>\n",
       "      <th>17-F</th>\n",
       "      <th>17-M</th>\n",
       "    </tr>\n",
       "  </thead>\n",
       "  <tbody>\n",
       "    <tr>\n",
       "      <th>ABI-L1b-Rad</th>\n",
       "      <td>2017-03-01</td>\n",
       "      <td>2017-03-01</td>\n",
       "      <td>2017-03-01</td>\n",
       "      <td>2018-08-29</td>\n",
       "      <td>2018-08-29</td>\n",
       "      <td>2018-08-29</td>\n",
       "    </tr>\n",
       "    <tr>\n",
       "      <th>ABI-L2-ACHA</th>\n",
       "      <td>2019-12-03</td>\n",
       "      <td>2019-12-03</td>\n",
       "      <td>2019-12-03</td>\n",
       "      <td>2019-12-03</td>\n",
       "      <td>2019-12-03</td>\n",
       "      <td>2019-12-03</td>\n",
       "    </tr>\n",
       "    <tr>\n",
       "      <th>ABI-L2-ACHT</th>\n",
       "      <td>-</td>\n",
       "      <td>2019-12-06</td>\n",
       "      <td>2019-12-06</td>\n",
       "      <td>-</td>\n",
       "      <td>2019-12-06</td>\n",
       "      <td>2019-12-06</td>\n",
       "    </tr>\n",
       "    <tr>\n",
       "      <th>ABI-L2-ACM</th>\n",
       "      <td>2017-04-20</td>\n",
       "      <td>2019-12-03</td>\n",
       "      <td>2019-12-03</td>\n",
       "      <td>2018-08-28</td>\n",
       "      <td>2019-12-03</td>\n",
       "      <td>2019-12-03</td>\n",
       "    </tr>\n",
       "    <tr>\n",
       "      <th>ABI-L2-ACTP</th>\n",
       "      <td>2017-05-17</td>\n",
       "      <td>2017-05-17</td>\n",
       "      <td>2019-12-03</td>\n",
       "      <td>2018-08-28</td>\n",
       "      <td>2018-08-28</td>\n",
       "      <td>2019-12-03</td>\n",
       "    </tr>\n",
       "    <tr>\n",
       "      <th>ABI-L2-ADP</th>\n",
       "      <td>2019-12-04</td>\n",
       "      <td>2019-12-04</td>\n",
       "      <td>2019-12-04</td>\n",
       "      <td>2019-12-04</td>\n",
       "      <td>2019-12-04</td>\n",
       "      <td>2019-12-04</td>\n",
       "    </tr>\n",
       "    <tr>\n",
       "      <th>ABI-L2-AICE</th>\n",
       "      <td>-</td>\n",
       "      <td>2021-02-25</td>\n",
       "      <td>-</td>\n",
       "      <td>-</td>\n",
       "      <td>2021-02-26</td>\n",
       "      <td>-</td>\n",
       "    </tr>\n",
       "    <tr>\n",
       "      <th>ABI-L2-AITA</th>\n",
       "      <td>-</td>\n",
       "      <td>2021-02-25</td>\n",
       "      <td>-</td>\n",
       "      <td>-</td>\n",
       "      <td>2021-02-26</td>\n",
       "      <td>-</td>\n",
       "    </tr>\n",
       "    <tr>\n",
       "      <th>ABI-L2-AOD</th>\n",
       "      <td>2017-05-25</td>\n",
       "      <td>2019-12-06</td>\n",
       "      <td>-</td>\n",
       "      <td>2018-08-28</td>\n",
       "      <td>2019-12-06</td>\n",
       "      <td>-</td>\n",
       "    </tr>\n",
       "    <tr>\n",
       "      <th>ABI-L2-BRF</th>\n",
       "      <td>2021-08-19</td>\n",
       "      <td>2021-08-19</td>\n",
       "      <td>2021-08-19</td>\n",
       "      <td>2021-08-19</td>\n",
       "      <td>2021-08-19</td>\n",
       "      <td>2021-08-19</td>\n",
       "    </tr>\n",
       "    <tr>\n",
       "      <th>ABI-L2-CMIP</th>\n",
       "      <td>2017-03-01</td>\n",
       "      <td>2017-03-01</td>\n",
       "      <td>2017-03-01</td>\n",
       "      <td>2018-08-29</td>\n",
       "      <td>2018-08-29</td>\n",
       "      <td>2018-08-29</td>\n",
       "    </tr>\n",
       "    <tr>\n",
       "      <th>ABI-L2-COD</th>\n",
       "      <td>2017-06-09</td>\n",
       "      <td>2019-12-03</td>\n",
       "      <td>-</td>\n",
       "      <td>2018-08-28</td>\n",
       "      <td>2019-12-03</td>\n",
       "      <td>-</td>\n",
       "    </tr>\n",
       "    <tr>\n",
       "      <th>ABI-L2-CPS</th>\n",
       "      <td>2019-12-06</td>\n",
       "      <td>2019-12-06</td>\n",
       "      <td>2019-12-06</td>\n",
       "      <td>2019-12-06</td>\n",
       "      <td>2019-12-06</td>\n",
       "      <td>2019-12-06</td>\n",
       "    </tr>\n",
       "    <tr>\n",
       "      <th>ABI-L2-CTP</th>\n",
       "      <td>2019-12-06</td>\n",
       "      <td>2019-12-06</td>\n",
       "      <td>-</td>\n",
       "      <td>2019-12-06</td>\n",
       "      <td>2019-12-06</td>\n",
       "      <td>-</td>\n",
       "    </tr>\n",
       "    <tr>\n",
       "      <th>ABI-L2-DMW</th>\n",
       "      <td>2019-12-03</td>\n",
       "      <td>2019-12-03</td>\n",
       "      <td>2019-12-03</td>\n",
       "      <td>2019-12-03</td>\n",
       "      <td>2019-12-03</td>\n",
       "      <td>2019-12-03</td>\n",
       "    </tr>\n",
       "    <tr>\n",
       "      <th>ABI-L2-DMWV</th>\n",
       "      <td>2021-04-13</td>\n",
       "      <td>2021-04-13</td>\n",
       "      <td>2021-04-13</td>\n",
       "      <td>2021-04-13</td>\n",
       "      <td>2021-04-13</td>\n",
       "      <td>2021-04-13</td>\n",
       "    </tr>\n",
       "    <tr>\n",
       "      <th>ABI-L2-DSI</th>\n",
       "      <td>2019-12-06</td>\n",
       "      <td>2019-12-06</td>\n",
       "      <td>2019-12-06</td>\n",
       "      <td>2019-12-06</td>\n",
       "      <td>2019-12-06</td>\n",
       "      <td>2019-12-06</td>\n",
       "    </tr>\n",
       "    <tr>\n",
       "      <th>ABI-L2-DSR</th>\n",
       "      <td>2019-12-06</td>\n",
       "      <td>2019-12-06</td>\n",
       "      <td>2019-12-06</td>\n",
       "      <td>2019-12-06</td>\n",
       "      <td>2019-12-06</td>\n",
       "      <td>2019-12-06</td>\n",
       "    </tr>\n",
       "    <tr>\n",
       "      <th>ABI-L2-FDC</th>\n",
       "      <td>2017-05-25</td>\n",
       "      <td>2017-05-25</td>\n",
       "      <td>2021-05-18</td>\n",
       "      <td>2018-08-28</td>\n",
       "      <td>2018-08-28</td>\n",
       "      <td>2021-05-18</td>\n",
       "    </tr>\n",
       "    <tr>\n",
       "      <th>ABI-L2-LSA</th>\n",
       "      <td>2021-08-19</td>\n",
       "      <td>2021-08-19</td>\n",
       "      <td>2021-08-19</td>\n",
       "      <td>2021-08-19</td>\n",
       "      <td>2021-08-19</td>\n",
       "      <td>2021-08-19</td>\n",
       "    </tr>\n",
       "    <tr>\n",
       "      <th>ABI-L2-LST</th>\n",
       "      <td>2017-05-25</td>\n",
       "      <td>2017-05-25</td>\n",
       "      <td>2019-12-06</td>\n",
       "      <td>2018-08-28</td>\n",
       "      <td>2018-08-28</td>\n",
       "      <td>2019-12-06</td>\n",
       "    </tr>\n",
       "    <tr>\n",
       "      <th>ABI-L2-LST2KM</th>\n",
       "      <td>-</td>\n",
       "      <td>2021-10-14</td>\n",
       "      <td>-</td>\n",
       "      <td>-</td>\n",
       "      <td>2021-10-14</td>\n",
       "      <td>-</td>\n",
       "    </tr>\n",
       "    <tr>\n",
       "      <th>ABI-L2-LVMP</th>\n",
       "      <td>2019-12-06</td>\n",
       "      <td>2019-12-06</td>\n",
       "      <td>2019-12-06</td>\n",
       "      <td>2019-12-06</td>\n",
       "      <td>2019-12-06</td>\n",
       "      <td>2019-12-06</td>\n",
       "    </tr>\n",
       "    <tr>\n",
       "      <th>ABI-L2-LVTP</th>\n",
       "      <td>2019-12-06</td>\n",
       "      <td>2019-12-06</td>\n",
       "      <td>2019-12-06</td>\n",
       "      <td>2019-12-06</td>\n",
       "      <td>2019-12-06</td>\n",
       "      <td>2019-12-06</td>\n",
       "    </tr>\n",
       "    <tr>\n",
       "      <th>ABI-L2-MCMIP</th>\n",
       "      <td>2017-03-01</td>\n",
       "      <td>2017-03-01</td>\n",
       "      <td>2017-03-01</td>\n",
       "      <td>2018-08-29</td>\n",
       "      <td>2018-08-29</td>\n",
       "      <td>2018-08-29</td>\n",
       "    </tr>\n",
       "    <tr>\n",
       "      <th>ABI-L2-RRQPE</th>\n",
       "      <td>-</td>\n",
       "      <td>2019-12-04</td>\n",
       "      <td>-</td>\n",
       "      <td>-</td>\n",
       "      <td>2019-12-04</td>\n",
       "      <td>-</td>\n",
       "    </tr>\n",
       "    <tr>\n",
       "      <th>ABI-L2-RSR</th>\n",
       "      <td>2019-12-06</td>\n",
       "      <td>2019-12-06</td>\n",
       "      <td>-</td>\n",
       "      <td>2019-12-06</td>\n",
       "      <td>2019-12-06</td>\n",
       "      <td>-</td>\n",
       "    </tr>\n",
       "    <tr>\n",
       "      <th>ABI-L2-SST</th>\n",
       "      <td>-</td>\n",
       "      <td>2019-12-06</td>\n",
       "      <td>-</td>\n",
       "      <td>-</td>\n",
       "      <td>2019-12-06</td>\n",
       "      <td>-</td>\n",
       "    </tr>\n",
       "    <tr>\n",
       "      <th>ABI-L2-TPW</th>\n",
       "      <td>2019-12-04</td>\n",
       "      <td>2019-12-04</td>\n",
       "      <td>2019-12-04</td>\n",
       "      <td>2019-12-04</td>\n",
       "      <td>2019-12-04</td>\n",
       "      <td>2019-12-04</td>\n",
       "    </tr>\n",
       "    <tr>\n",
       "      <th>ABI-L2-VAA</th>\n",
       "      <td>-</td>\n",
       "      <td>2019-12-06</td>\n",
       "      <td>-</td>\n",
       "      <td>-</td>\n",
       "      <td>2019-12-06</td>\n",
       "      <td>-</td>\n",
       "    </tr>\n",
       "  </tbody>\n",
       "</table>\n",
       "</div>"
      ],
      "text/plain": [
       "                     16-C        16-F        16-M        17-C        17-F  \\\n",
       "ABI-L1b-Rad    2017-03-01  2017-03-01  2017-03-01  2018-08-29  2018-08-29   \n",
       "ABI-L2-ACHA    2019-12-03  2019-12-03  2019-12-03  2019-12-03  2019-12-03   \n",
       "ABI-L2-ACHT             -  2019-12-06  2019-12-06           -  2019-12-06   \n",
       "ABI-L2-ACM     2017-04-20  2019-12-03  2019-12-03  2018-08-28  2019-12-03   \n",
       "ABI-L2-ACTP    2017-05-17  2017-05-17  2019-12-03  2018-08-28  2018-08-28   \n",
       "ABI-L2-ADP     2019-12-04  2019-12-04  2019-12-04  2019-12-04  2019-12-04   \n",
       "ABI-L2-AICE             -  2021-02-25           -           -  2021-02-26   \n",
       "ABI-L2-AITA             -  2021-02-25           -           -  2021-02-26   \n",
       "ABI-L2-AOD     2017-05-25  2019-12-06           -  2018-08-28  2019-12-06   \n",
       "ABI-L2-BRF     2021-08-19  2021-08-19  2021-08-19  2021-08-19  2021-08-19   \n",
       "ABI-L2-CMIP    2017-03-01  2017-03-01  2017-03-01  2018-08-29  2018-08-29   \n",
       "ABI-L2-COD     2017-06-09  2019-12-03           -  2018-08-28  2019-12-03   \n",
       "ABI-L2-CPS     2019-12-06  2019-12-06  2019-12-06  2019-12-06  2019-12-06   \n",
       "ABI-L2-CTP     2019-12-06  2019-12-06           -  2019-12-06  2019-12-06   \n",
       "ABI-L2-DMW     2019-12-03  2019-12-03  2019-12-03  2019-12-03  2019-12-03   \n",
       "ABI-L2-DMWV    2021-04-13  2021-04-13  2021-04-13  2021-04-13  2021-04-13   \n",
       "ABI-L2-DSI     2019-12-06  2019-12-06  2019-12-06  2019-12-06  2019-12-06   \n",
       "ABI-L2-DSR     2019-12-06  2019-12-06  2019-12-06  2019-12-06  2019-12-06   \n",
       "ABI-L2-FDC     2017-05-25  2017-05-25  2021-05-18  2018-08-28  2018-08-28   \n",
       "ABI-L2-LSA     2021-08-19  2021-08-19  2021-08-19  2021-08-19  2021-08-19   \n",
       "ABI-L2-LST     2017-05-25  2017-05-25  2019-12-06  2018-08-28  2018-08-28   \n",
       "ABI-L2-LST2KM           -  2021-10-14           -           -  2021-10-14   \n",
       "ABI-L2-LVMP    2019-12-06  2019-12-06  2019-12-06  2019-12-06  2019-12-06   \n",
       "ABI-L2-LVTP    2019-12-06  2019-12-06  2019-12-06  2019-12-06  2019-12-06   \n",
       "ABI-L2-MCMIP   2017-03-01  2017-03-01  2017-03-01  2018-08-29  2018-08-29   \n",
       "ABI-L2-RRQPE            -  2019-12-04           -           -  2019-12-04   \n",
       "ABI-L2-RSR     2019-12-06  2019-12-06           -  2019-12-06  2019-12-06   \n",
       "ABI-L2-SST              -  2019-12-06           -           -  2019-12-06   \n",
       "ABI-L2-TPW     2019-12-04  2019-12-04  2019-12-04  2019-12-04  2019-12-04   \n",
       "ABI-L2-VAA              -  2019-12-06           -           -  2019-12-06   \n",
       "\n",
       "                     17-M  \n",
       "ABI-L1b-Rad    2018-08-29  \n",
       "ABI-L2-ACHA    2019-12-03  \n",
       "ABI-L2-ACHT    2019-12-06  \n",
       "ABI-L2-ACM     2019-12-03  \n",
       "ABI-L2-ACTP    2019-12-03  \n",
       "ABI-L2-ADP     2019-12-04  \n",
       "ABI-L2-AICE             -  \n",
       "ABI-L2-AITA             -  \n",
       "ABI-L2-AOD              -  \n",
       "ABI-L2-BRF     2021-08-19  \n",
       "ABI-L2-CMIP    2018-08-29  \n",
       "ABI-L2-COD              -  \n",
       "ABI-L2-CPS     2019-12-06  \n",
       "ABI-L2-CTP              -  \n",
       "ABI-L2-DMW     2019-12-03  \n",
       "ABI-L2-DMWV    2021-04-13  \n",
       "ABI-L2-DSI     2019-12-06  \n",
       "ABI-L2-DSR     2019-12-06  \n",
       "ABI-L2-FDC     2021-05-18  \n",
       "ABI-L2-LSA     2021-08-19  \n",
       "ABI-L2-LST     2019-12-06  \n",
       "ABI-L2-LST2KM           -  \n",
       "ABI-L2-LVMP    2019-12-06  \n",
       "ABI-L2-LVTP    2019-12-06  \n",
       "ABI-L2-MCMIP   2018-08-29  \n",
       "ABI-L2-RRQPE            -  \n",
       "ABI-L2-RSR              -  \n",
       "ABI-L2-SST              -  \n",
       "ABI-L2-TPW     2019-12-04  \n",
       "ABI-L2-VAA              -  "
      ]
     },
     "execution_count": 108,
     "metadata": {},
     "output_type": "execute_result"
    }
   ],
   "source": [
    "available_products"
   ]
  },
  {
   "cell_type": "code",
   "execution_count": 105,
   "metadata": {},
   "outputs": [],
   "source": [
    "def test(x, start = '2018-08-01'):\n",
    "    try:\n",
    "        dt = pd.to_datetime(x)\n",
    "    except:\n",
    "        return False\n",
    "    dtstart = pd.to_datetime(start)\n",
    "    return dtstart > dt"
   ]
  },
  {
   "cell_type": "code",
   "execution_count": 110,
   "metadata": {},
   "outputs": [
    {
     "data": {
      "text/html": [
       "<div>\n",
       "<style scoped>\n",
       "    .dataframe tbody tr th:only-of-type {\n",
       "        vertical-align: middle;\n",
       "    }\n",
       "\n",
       "    .dataframe tbody tr th {\n",
       "        vertical-align: top;\n",
       "    }\n",
       "\n",
       "    .dataframe thead th {\n",
       "        text-align: right;\n",
       "    }\n",
       "</style>\n",
       "<table border=\"1\" class=\"dataframe\">\n",
       "  <thead>\n",
       "    <tr style=\"text-align: right;\">\n",
       "      <th></th>\n",
       "      <th>16-C</th>\n",
       "      <th>16-F</th>\n",
       "      <th>16-M</th>\n",
       "      <th>17-C</th>\n",
       "      <th>17-F</th>\n",
       "      <th>17-M</th>\n",
       "    </tr>\n",
       "  </thead>\n",
       "  <tbody>\n",
       "    <tr>\n",
       "      <th>ABI-L1b-Rad</th>\n",
       "      <td>2017-03-01</td>\n",
       "      <td>2017-03-01</td>\n",
       "      <td>2017-03-01</td>\n",
       "      <td>NaN</td>\n",
       "      <td>NaN</td>\n",
       "      <td>NaN</td>\n",
       "    </tr>\n",
       "    <tr>\n",
       "      <th>ABI-L2-ACM</th>\n",
       "      <td>2017-04-20</td>\n",
       "      <td>NaN</td>\n",
       "      <td>NaN</td>\n",
       "      <td>NaN</td>\n",
       "      <td>NaN</td>\n",
       "      <td>NaN</td>\n",
       "    </tr>\n",
       "    <tr>\n",
       "      <th>ABI-L2-ACTP</th>\n",
       "      <td>2017-05-17</td>\n",
       "      <td>2017-05-17</td>\n",
       "      <td>NaN</td>\n",
       "      <td>NaN</td>\n",
       "      <td>NaN</td>\n",
       "      <td>NaN</td>\n",
       "    </tr>\n",
       "    <tr>\n",
       "      <th>ABI-L2-AOD</th>\n",
       "      <td>2017-05-25</td>\n",
       "      <td>NaN</td>\n",
       "      <td>NaN</td>\n",
       "      <td>NaN</td>\n",
       "      <td>NaN</td>\n",
       "      <td>NaN</td>\n",
       "    </tr>\n",
       "    <tr>\n",
       "      <th>ABI-L2-CMIP</th>\n",
       "      <td>2017-03-01</td>\n",
       "      <td>2017-03-01</td>\n",
       "      <td>2017-03-01</td>\n",
       "      <td>NaN</td>\n",
       "      <td>NaN</td>\n",
       "      <td>NaN</td>\n",
       "    </tr>\n",
       "    <tr>\n",
       "      <th>ABI-L2-COD</th>\n",
       "      <td>2017-06-09</td>\n",
       "      <td>NaN</td>\n",
       "      <td>NaN</td>\n",
       "      <td>NaN</td>\n",
       "      <td>NaN</td>\n",
       "      <td>NaN</td>\n",
       "    </tr>\n",
       "    <tr>\n",
       "      <th>ABI-L2-FDC</th>\n",
       "      <td>2017-05-25</td>\n",
       "      <td>2017-05-25</td>\n",
       "      <td>NaN</td>\n",
       "      <td>NaN</td>\n",
       "      <td>NaN</td>\n",
       "      <td>NaN</td>\n",
       "    </tr>\n",
       "    <tr>\n",
       "      <th>ABI-L2-LST</th>\n",
       "      <td>2017-05-25</td>\n",
       "      <td>2017-05-25</td>\n",
       "      <td>NaN</td>\n",
       "      <td>NaN</td>\n",
       "      <td>NaN</td>\n",
       "      <td>NaN</td>\n",
       "    </tr>\n",
       "    <tr>\n",
       "      <th>ABI-L2-MCMIP</th>\n",
       "      <td>2017-03-01</td>\n",
       "      <td>2017-03-01</td>\n",
       "      <td>2017-03-01</td>\n",
       "      <td>NaN</td>\n",
       "      <td>NaN</td>\n",
       "      <td>NaN</td>\n",
       "    </tr>\n",
       "  </tbody>\n",
       "</table>\n",
       "</div>"
      ],
      "text/plain": [
       "                    16-C        16-F        16-M 17-C 17-F 17-M\n",
       "ABI-L1b-Rad   2017-03-01  2017-03-01  2017-03-01  NaN  NaN  NaN\n",
       "ABI-L2-ACM    2017-04-20         NaN         NaN  NaN  NaN  NaN\n",
       "ABI-L2-ACTP   2017-05-17  2017-05-17         NaN  NaN  NaN  NaN\n",
       "ABI-L2-AOD    2017-05-25         NaN         NaN  NaN  NaN  NaN\n",
       "ABI-L2-CMIP   2017-03-01  2017-03-01  2017-03-01  NaN  NaN  NaN\n",
       "ABI-L2-COD    2017-06-09         NaN         NaN  NaN  NaN  NaN\n",
       "ABI-L2-FDC    2017-05-25  2017-05-25         NaN  NaN  NaN  NaN\n",
       "ABI-L2-LST    2017-05-25  2017-05-25         NaN  NaN  NaN  NaN\n",
       "ABI-L2-MCMIP  2017-03-01  2017-03-01  2017-03-01  NaN  NaN  NaN"
      ]
     },
     "execution_count": 110,
     "metadata": {},
     "output_type": "execute_result"
    }
   ],
   "source": [
    "available_products[available_products.applymap(test)].dropna(how = 'all')"
   ]
  },
  {
   "cell_type": "markdown",
   "metadata": {},
   "source": [
    "## Make a query"
   ]
  },
  {
   "cell_type": "markdown",
   "metadata": {},
   "source": [
    "Initiate a data query. This will generate a list of available files. One can estimate the disk space that is needed and if sufficient space is available"
   ]
  },
  {
   "cell_type": "code",
   "execution_count": 7,
   "metadata": {},
   "outputs": [],
   "source": [
    "query = nesdis_aws.AwsQuery(path2folder_local='/mnt/telg/data/smoke_events/20200912_18_CO/goes_raw/',\n",
    "                            satellite='16',\n",
    "                            product='ABI-L2-AOD',\n",
    "                            scan_sector='C',\n",
    "                            start='2020-09-12 12:00:00',\n",
    "                            end='2020-09-19 13:00:00',\n",
    "                            no_of_days=None,\n",
    "                            last_x_days=None,\n",
    "                            max_no_of_files=100)"
   ]
  },
  {
   "cell_type": "code",
   "execution_count": 8,
   "metadata": {},
   "outputs": [
    {
     "name": "stdout",
     "output_type": "stream",
     "text": [
      "no of files: 2026\n",
      "estimated disk usage: 7771 mb\n",
      "remaining disk space after download: 48 %\n",
      "\n"
     ]
    }
   ],
   "source": [
    "print(query.info_on_current_query())\n"
   ]
  },
  {
   "cell_type": "markdown",
   "metadata": {},
   "source": [
    "## get subset of workplan"
   ]
  },
  {
   "cell_type": "markdown",
   "metadata": {},
   "source": [
    "The workplan is a pandas DataFrame, that can be altered, e.g. truncated or resampled."
   ]
  },
  {
   "cell_type": "markdown",
   "metadata": {},
   "source": [
    "### Examples"
   ]
  },
  {
   "cell_type": "markdown",
   "metadata": {},
   "source": [
    "Only consider every 10th row:"
   ]
  },
  {
   "cell_type": "code",
   "execution_count": 9,
   "metadata": {},
   "outputs": [
    {
     "data": {
      "text/html": [
       "<div>\n",
       "<style scoped>\n",
       "    .dataframe tbody tr th:only-of-type {\n",
       "        vertical-align: middle;\n",
       "    }\n",
       "\n",
       "    .dataframe tbody tr th {\n",
       "        vertical-align: top;\n",
       "    }\n",
       "\n",
       "    .dataframe thead th {\n",
       "        text-align: right;\n",
       "    }\n",
       "</style>\n",
       "<table border=\"1\" class=\"dataframe\">\n",
       "  <thead>\n",
       "    <tr style=\"text-align: right;\">\n",
       "      <th></th>\n",
       "      <th>path2file_aws</th>\n",
       "      <th>path2file_local</th>\n",
       "    </tr>\n",
       "  </thead>\n",
       "  <tbody>\n",
       "    <tr>\n",
       "      <th>2020-09-12 12:01:15</th>\n",
       "      <td>noaa-goes16/ABI-L2-AODC/2020/256/12/OR_ABI-L2-...</td>\n",
       "      <td>/mnt/telg/data/smoke_events/20200912_18_CO/goe...</td>\n",
       "    </tr>\n",
       "    <tr>\n",
       "      <th>2020-09-12 12:51:15</th>\n",
       "      <td>noaa-goes16/ABI-L2-AODC/2020/256/12/OR_ABI-L2-...</td>\n",
       "      <td>/mnt/telg/data/smoke_events/20200912_18_CO/goe...</td>\n",
       "    </tr>\n",
       "    <tr>\n",
       "      <th>2020-09-12 13:41:15</th>\n",
       "      <td>noaa-goes16/ABI-L2-AODC/2020/256/13/OR_ABI-L2-...</td>\n",
       "      <td>/mnt/telg/data/smoke_events/20200912_18_CO/goe...</td>\n",
       "    </tr>\n",
       "    <tr>\n",
       "      <th>2020-09-12 14:31:15</th>\n",
       "      <td>noaa-goes16/ABI-L2-AODC/2020/256/14/OR_ABI-L2-...</td>\n",
       "      <td>/mnt/telg/data/smoke_events/20200912_18_CO/goe...</td>\n",
       "    </tr>\n",
       "    <tr>\n",
       "      <th>2020-09-12 15:21:15</th>\n",
       "      <td>noaa-goes16/ABI-L2-AODC/2020/256/15/OR_ABI-L2-...</td>\n",
       "      <td>/mnt/telg/data/smoke_events/20200912_18_CO/goe...</td>\n",
       "    </tr>\n",
       "    <tr>\n",
       "      <th>...</th>\n",
       "      <td>...</td>\n",
       "      <td>...</td>\n",
       "    </tr>\n",
       "    <tr>\n",
       "      <th>2020-09-19 09:11:16</th>\n",
       "      <td>noaa-goes16/ABI-L2-AODC/2020/263/09/OR_ABI-L2-...</td>\n",
       "      <td>/mnt/telg/data/smoke_events/20200912_18_CO/goe...</td>\n",
       "    </tr>\n",
       "    <tr>\n",
       "      <th>2020-09-19 10:01:16</th>\n",
       "      <td>noaa-goes16/ABI-L2-AODC/2020/263/10/OR_ABI-L2-...</td>\n",
       "      <td>/mnt/telg/data/smoke_events/20200912_18_CO/goe...</td>\n",
       "    </tr>\n",
       "    <tr>\n",
       "      <th>2020-09-19 10:51:16</th>\n",
       "      <td>noaa-goes16/ABI-L2-AODC/2020/263/10/OR_ABI-L2-...</td>\n",
       "      <td>/mnt/telg/data/smoke_events/20200912_18_CO/goe...</td>\n",
       "    </tr>\n",
       "    <tr>\n",
       "      <th>2020-09-19 11:41:16</th>\n",
       "      <td>noaa-goes16/ABI-L2-AODC/2020/263/11/OR_ABI-L2-...</td>\n",
       "      <td>/mnt/telg/data/smoke_events/20200912_18_CO/goe...</td>\n",
       "    </tr>\n",
       "    <tr>\n",
       "      <th>2020-09-19 12:31:16</th>\n",
       "      <td>noaa-goes16/ABI-L2-AODC/2020/263/12/OR_ABI-L2-...</td>\n",
       "      <td>/mnt/telg/data/smoke_events/20200912_18_CO/goe...</td>\n",
       "    </tr>\n",
       "  </tbody>\n",
       "</table>\n",
       "<p>203 rows × 2 columns</p>\n",
       "</div>"
      ],
      "text/plain": [
       "                                                         path2file_aws  \\\n",
       "2020-09-12 12:01:15  noaa-goes16/ABI-L2-AODC/2020/256/12/OR_ABI-L2-...   \n",
       "2020-09-12 12:51:15  noaa-goes16/ABI-L2-AODC/2020/256/12/OR_ABI-L2-...   \n",
       "2020-09-12 13:41:15  noaa-goes16/ABI-L2-AODC/2020/256/13/OR_ABI-L2-...   \n",
       "2020-09-12 14:31:15  noaa-goes16/ABI-L2-AODC/2020/256/14/OR_ABI-L2-...   \n",
       "2020-09-12 15:21:15  noaa-goes16/ABI-L2-AODC/2020/256/15/OR_ABI-L2-...   \n",
       "...                                                                ...   \n",
       "2020-09-19 09:11:16  noaa-goes16/ABI-L2-AODC/2020/263/09/OR_ABI-L2-...   \n",
       "2020-09-19 10:01:16  noaa-goes16/ABI-L2-AODC/2020/263/10/OR_ABI-L2-...   \n",
       "2020-09-19 10:51:16  noaa-goes16/ABI-L2-AODC/2020/263/10/OR_ABI-L2-...   \n",
       "2020-09-19 11:41:16  noaa-goes16/ABI-L2-AODC/2020/263/11/OR_ABI-L2-...   \n",
       "2020-09-19 12:31:16  noaa-goes16/ABI-L2-AODC/2020/263/12/OR_ABI-L2-...   \n",
       "\n",
       "                                                       path2file_local  \n",
       "2020-09-12 12:01:15  /mnt/telg/data/smoke_events/20200912_18_CO/goe...  \n",
       "2020-09-12 12:51:15  /mnt/telg/data/smoke_events/20200912_18_CO/goe...  \n",
       "2020-09-12 13:41:15  /mnt/telg/data/smoke_events/20200912_18_CO/goe...  \n",
       "2020-09-12 14:31:15  /mnt/telg/data/smoke_events/20200912_18_CO/goe...  \n",
       "2020-09-12 15:21:15  /mnt/telg/data/smoke_events/20200912_18_CO/goe...  \n",
       "...                                                                ...  \n",
       "2020-09-19 09:11:16  /mnt/telg/data/smoke_events/20200912_18_CO/goe...  \n",
       "2020-09-19 10:01:16  /mnt/telg/data/smoke_events/20200912_18_CO/goe...  \n",
       "2020-09-19 10:51:16  /mnt/telg/data/smoke_events/20200912_18_CO/goe...  \n",
       "2020-09-19 11:41:16  /mnt/telg/data/smoke_events/20200912_18_CO/goe...  \n",
       "2020-09-19 12:31:16  /mnt/telg/data/smoke_events/20200912_18_CO/goe...  \n",
       "\n",
       "[203 rows x 2 columns]"
      ]
     },
     "execution_count": 9,
     "metadata": {},
     "output_type": "execute_result"
    }
   ],
   "source": [
    "query.workplan[::10]"
   ]
  },
  {
   "cell_type": "markdown",
   "metadata": {},
   "source": [
    "Only one file every 15 minutes"
   ]
  },
  {
   "cell_type": "code",
   "execution_count": 10,
   "metadata": {},
   "outputs": [
    {
     "data": {
      "text/html": [
       "<div>\n",
       "<style scoped>\n",
       "    .dataframe tbody tr th:only-of-type {\n",
       "        vertical-align: middle;\n",
       "    }\n",
       "\n",
       "    .dataframe tbody tr th {\n",
       "        vertical-align: top;\n",
       "    }\n",
       "\n",
       "    .dataframe thead th {\n",
       "        text-align: right;\n",
       "    }\n",
       "</style>\n",
       "<table border=\"1\" class=\"dataframe\">\n",
       "  <thead>\n",
       "    <tr style=\"text-align: right;\">\n",
       "      <th></th>\n",
       "      <th>path2file_aws</th>\n",
       "      <th>path2file_local</th>\n",
       "    </tr>\n",
       "  </thead>\n",
       "  <tbody>\n",
       "    <tr>\n",
       "      <th>2020-09-12 12:00:00</th>\n",
       "      <td>noaa-goes16/ABI-L2-AODC/2020/256/12/OR_ABI-L2-...</td>\n",
       "      <td>/mnt/telg/data/smoke_events/20200912_18_CO/goe...</td>\n",
       "    </tr>\n",
       "    <tr>\n",
       "      <th>2020-09-12 12:15:00</th>\n",
       "      <td>noaa-goes16/ABI-L2-AODC/2020/256/12/OR_ABI-L2-...</td>\n",
       "      <td>/mnt/telg/data/smoke_events/20200912_18_CO/goe...</td>\n",
       "    </tr>\n",
       "    <tr>\n",
       "      <th>2020-09-12 12:30:00</th>\n",
       "      <td>noaa-goes16/ABI-L2-AODC/2020/256/12/OR_ABI-L2-...</td>\n",
       "      <td>/mnt/telg/data/smoke_events/20200912_18_CO/goe...</td>\n",
       "    </tr>\n",
       "    <tr>\n",
       "      <th>2020-09-12 12:45:00</th>\n",
       "      <td>noaa-goes16/ABI-L2-AODC/2020/256/12/OR_ABI-L2-...</td>\n",
       "      <td>/mnt/telg/data/smoke_events/20200912_18_CO/goe...</td>\n",
       "    </tr>\n",
       "    <tr>\n",
       "      <th>2020-09-12 13:00:00</th>\n",
       "      <td>noaa-goes16/ABI-L2-AODC/2020/256/13/OR_ABI-L2-...</td>\n",
       "      <td>/mnt/telg/data/smoke_events/20200912_18_CO/goe...</td>\n",
       "    </tr>\n",
       "    <tr>\n",
       "      <th>...</th>\n",
       "      <td>...</td>\n",
       "      <td>...</td>\n",
       "    </tr>\n",
       "    <tr>\n",
       "      <th>2020-09-19 11:45:00</th>\n",
       "      <td>noaa-goes16/ABI-L2-AODC/2020/263/11/OR_ABI-L2-...</td>\n",
       "      <td>/mnt/telg/data/smoke_events/20200912_18_CO/goe...</td>\n",
       "    </tr>\n",
       "    <tr>\n",
       "      <th>2020-09-19 12:00:00</th>\n",
       "      <td>noaa-goes16/ABI-L2-AODC/2020/263/12/OR_ABI-L2-...</td>\n",
       "      <td>/mnt/telg/data/smoke_events/20200912_18_CO/goe...</td>\n",
       "    </tr>\n",
       "    <tr>\n",
       "      <th>2020-09-19 12:15:00</th>\n",
       "      <td>noaa-goes16/ABI-L2-AODC/2020/263/12/OR_ABI-L2-...</td>\n",
       "      <td>/mnt/telg/data/smoke_events/20200912_18_CO/goe...</td>\n",
       "    </tr>\n",
       "    <tr>\n",
       "      <th>2020-09-19 12:30:00</th>\n",
       "      <td>noaa-goes16/ABI-L2-AODC/2020/263/12/OR_ABI-L2-...</td>\n",
       "      <td>/mnt/telg/data/smoke_events/20200912_18_CO/goe...</td>\n",
       "    </tr>\n",
       "    <tr>\n",
       "      <th>2020-09-19 12:45:00</th>\n",
       "      <td>noaa-goes16/ABI-L2-AODC/2020/263/12/OR_ABI-L2-...</td>\n",
       "      <td>/mnt/telg/data/smoke_events/20200912_18_CO/goe...</td>\n",
       "    </tr>\n",
       "  </tbody>\n",
       "</table>\n",
       "<p>676 rows × 2 columns</p>\n",
       "</div>"
      ],
      "text/plain": [
       "                                                         path2file_aws  \\\n",
       "2020-09-12 12:00:00  noaa-goes16/ABI-L2-AODC/2020/256/12/OR_ABI-L2-...   \n",
       "2020-09-12 12:15:00  noaa-goes16/ABI-L2-AODC/2020/256/12/OR_ABI-L2-...   \n",
       "2020-09-12 12:30:00  noaa-goes16/ABI-L2-AODC/2020/256/12/OR_ABI-L2-...   \n",
       "2020-09-12 12:45:00  noaa-goes16/ABI-L2-AODC/2020/256/12/OR_ABI-L2-...   \n",
       "2020-09-12 13:00:00  noaa-goes16/ABI-L2-AODC/2020/256/13/OR_ABI-L2-...   \n",
       "...                                                                ...   \n",
       "2020-09-19 11:45:00  noaa-goes16/ABI-L2-AODC/2020/263/11/OR_ABI-L2-...   \n",
       "2020-09-19 12:00:00  noaa-goes16/ABI-L2-AODC/2020/263/12/OR_ABI-L2-...   \n",
       "2020-09-19 12:15:00  noaa-goes16/ABI-L2-AODC/2020/263/12/OR_ABI-L2-...   \n",
       "2020-09-19 12:30:00  noaa-goes16/ABI-L2-AODC/2020/263/12/OR_ABI-L2-...   \n",
       "2020-09-19 12:45:00  noaa-goes16/ABI-L2-AODC/2020/263/12/OR_ABI-L2-...   \n",
       "\n",
       "                                                       path2file_local  \n",
       "2020-09-12 12:00:00  /mnt/telg/data/smoke_events/20200912_18_CO/goe...  \n",
       "2020-09-12 12:15:00  /mnt/telg/data/smoke_events/20200912_18_CO/goe...  \n",
       "2020-09-12 12:30:00  /mnt/telg/data/smoke_events/20200912_18_CO/goe...  \n",
       "2020-09-12 12:45:00  /mnt/telg/data/smoke_events/20200912_18_CO/goe...  \n",
       "2020-09-12 13:00:00  /mnt/telg/data/smoke_events/20200912_18_CO/goe...  \n",
       "...                                                                ...  \n",
       "2020-09-19 11:45:00  /mnt/telg/data/smoke_events/20200912_18_CO/goe...  \n",
       "2020-09-19 12:00:00  /mnt/telg/data/smoke_events/20200912_18_CO/goe...  \n",
       "2020-09-19 12:15:00  /mnt/telg/data/smoke_events/20200912_18_CO/goe...  \n",
       "2020-09-19 12:30:00  /mnt/telg/data/smoke_events/20200912_18_CO/goe...  \n",
       "2020-09-19 12:45:00  /mnt/telg/data/smoke_events/20200912_18_CO/goe...  \n",
       "\n",
       "[676 rows x 2 columns]"
      ]
     },
     "execution_count": 10,
     "metadata": {},
     "output_type": "execute_result"
    }
   ],
   "source": [
    "resampled = query.workplan.resample('15min').first()\n",
    "resampled"
   ]
  },
  {
   "cell_type": "markdown",
   "metadata": {},
   "source": [
    "To update the query's workplan overwrite it with the altered one:"
   ]
  },
  {
   "cell_type": "code",
   "execution_count": 11,
   "metadata": {},
   "outputs": [],
   "source": [
    "query.workplan = resampled"
   ]
  },
  {
   "cell_type": "code",
   "execution_count": 12,
   "metadata": {},
   "outputs": [
    {
     "name": "stdout",
     "output_type": "stream",
     "text": [
      "no of files: 676\n",
      "estimated disk usage: 2512 mb\n",
      "remaining disk space after download: 48 %\n",
      "\n"
     ]
    }
   ],
   "source": [
    "print(query.info_on_current_query())"
   ]
  },
  {
   "cell_type": "markdown",
   "metadata": {},
   "source": [
    "## download the files"
   ]
  },
  {
   "cell_type": "markdown",
   "metadata": {},
   "source": [
    "To download all files in the workplan execute:"
   ]
  },
  {
   "cell_type": "code",
   "execution_count": null,
   "metadata": {},
   "outputs": [],
   "source": [
    "query.download()"
   ]
  },
  {
   "cell_type": "markdown",
   "metadata": {},
   "source": [
    "## process while downloading (experimental)"
   ]
  },
  {
   "cell_type": "markdown",
   "metadata": {},
   "source": [
    "Provide a function that is applied to each file after it was downloaded. One can choose to delete the downloaded file after processing.This is most useful when limited storage is available. Note there is an additional column added to the workplan with the name path2file_local_processed."
   ]
  },
  {
   "cell_type": "code",
   "execution_count": null,
   "metadata": {},
   "outputs": [],
   "source": [
    "def function(row):\n",
    "    \"\"\" A function that takes a single row of the workplan and does things based on that.\n",
    "    For Example:\n",
    "        - open the downloaded file: data = some_open_function(row.path2file_local)\n",
    "        - process the data: data_processed = some_processing_function(data)\n",
    "        - save the processed data: some_save_function(data_processed, row.path2file_local_processed)\n",
    "    \"\"\"\n",
    "\n",
    "query = nesdis_aws.AwsQuery(path2folder_local='/mnt/telg/data/smoke_events/20200912_18_CO/goes_raw/',\n",
    "                            satellite='16',\n",
    "                            product='ABI-L2-AOD',\n",
    "                            scan_sector='C',\n",
    "                            start='2020-09-12 12:00:00',\n",
    "                            end='2020-09-19 13:00:00',\n",
    "                            no_of_days=None,\n",
    "                            last_x_days=None,\n",
    "                            process = dict(function = function(row),\n",
    "                                           prefix = 'ABI_L2_AOD_processed',\n",
    "                                           path2processed = '/my/processed/files/'),\n",
    "                           )"
   ]
  },
  {
   "cell_type": "code",
   "execution_count": null,
   "metadata": {},
   "outputs": [],
   "source": []
  },
  {
   "cell_type": "code",
   "execution_count": null,
   "metadata": {},
   "outputs": [],
   "source": []
  },
  {
   "cell_type": "markdown",
   "metadata": {},
   "source": [
    "# AWS and the s3fs library"
   ]
  },
  {
   "cell_type": "markdown",
   "metadata": {},
   "source": [
    "This is an introduction into how to use the s3fs library for acessing the AWS system ... In case you don't want to use the nesdis_aws package or simply want to understand the key library in it."
   ]
  },
  {
   "cell_type": "code",
   "execution_count": null,
   "metadata": {},
   "outputs": [],
   "source": []
  },
  {
   "cell_type": "markdown",
   "metadata": {},
   "source": [
    "## connect to file system"
   ]
  },
  {
   "cell_type": "code",
   "execution_count": 119,
   "metadata": {},
   "outputs": [],
   "source": [
    "import s3fs"
   ]
  },
  {
   "cell_type": "code",
   "execution_count": 120,
   "metadata": {},
   "outputs": [],
   "source": [
    "aws = s3fs.S3FileSystem(anon=True)"
   ]
  },
  {
   "cell_type": "markdown",
   "metadata": {},
   "source": [
    "## explore file system"
   ]
  },
  {
   "cell_type": "code",
   "execution_count": 122,
   "metadata": {},
   "outputs": [
    {
     "data": {
      "text/plain": [
       "PosixPath('noaa-goes16')"
      ]
     },
     "execution_count": 122,
     "metadata": {},
     "output_type": "execute_result"
    }
   ],
   "source": [
    "satellite = 16#16 (east) or 17(west)\n",
    "base_folder = pl.Path(f'noaa-goes{satellite}')\n",
    "base_folder"
   ]
  },
  {
   "cell_type": "markdown",
   "metadata": {},
   "source": [
    "### products"
   ]
  },
  {
   "cell_type": "code",
   "execution_count": 123,
   "metadata": {
    "tags": []
   },
   "outputs": [
    {
     "data": {
      "text/plain": [
       "['noaa-goes16/ABI-L1b-RadC',\n",
       " 'noaa-goes16/ABI-L1b-RadF',\n",
       " 'noaa-goes16/ABI-L1b-RadM',\n",
       " 'noaa-goes16/ABI-L2-ACHAC',\n",
       " 'noaa-goes16/ABI-L2-ACHAF',\n",
       " 'noaa-goes16/ABI-L2-ACHAM',\n",
       " 'noaa-goes16/ABI-L2-ACHTF',\n",
       " 'noaa-goes16/ABI-L2-ACHTM',\n",
       " 'noaa-goes16/ABI-L2-ACMC',\n",
       " 'noaa-goes16/ABI-L2-ACMF',\n",
       " 'noaa-goes16/ABI-L2-ACMM',\n",
       " 'noaa-goes16/ABI-L2-ACTPC',\n",
       " 'noaa-goes16/ABI-L2-ACTPF',\n",
       " 'noaa-goes16/ABI-L2-ACTPM',\n",
       " 'noaa-goes16/ABI-L2-ADPC',\n",
       " 'noaa-goes16/ABI-L2-ADPF',\n",
       " 'noaa-goes16/ABI-L2-ADPM',\n",
       " 'noaa-goes16/ABI-L2-AICEF',\n",
       " 'noaa-goes16/ABI-L2-AITAF',\n",
       " 'noaa-goes16/ABI-L2-AODC',\n",
       " 'noaa-goes16/ABI-L2-AODF',\n",
       " 'noaa-goes16/ABI-L2-BRFC',\n",
       " 'noaa-goes16/ABI-L2-BRFF',\n",
       " 'noaa-goes16/ABI-L2-BRFM',\n",
       " 'noaa-goes16/ABI-L2-CMIPC',\n",
       " 'noaa-goes16/ABI-L2-CMIPF',\n",
       " 'noaa-goes16/ABI-L2-CMIPM',\n",
       " 'noaa-goes16/ABI-L2-CODC',\n",
       " 'noaa-goes16/ABI-L2-CODF',\n",
       " 'noaa-goes16/ABI-L2-CPSC',\n",
       " 'noaa-goes16/ABI-L2-CPSF',\n",
       " 'noaa-goes16/ABI-L2-CPSM',\n",
       " 'noaa-goes16/ABI-L2-CTPC',\n",
       " 'noaa-goes16/ABI-L2-CTPF',\n",
       " 'noaa-goes16/ABI-L2-DMWC',\n",
       " 'noaa-goes16/ABI-L2-DMWF',\n",
       " 'noaa-goes16/ABI-L2-DMWM',\n",
       " 'noaa-goes16/ABI-L2-DMWVC',\n",
       " 'noaa-goes16/ABI-L2-DMWVF',\n",
       " 'noaa-goes16/ABI-L2-DMWVM',\n",
       " 'noaa-goes16/ABI-L2-DSIC',\n",
       " 'noaa-goes16/ABI-L2-DSIF',\n",
       " 'noaa-goes16/ABI-L2-DSIM',\n",
       " 'noaa-goes16/ABI-L2-DSRC',\n",
       " 'noaa-goes16/ABI-L2-DSRF',\n",
       " 'noaa-goes16/ABI-L2-DSRM',\n",
       " 'noaa-goes16/ABI-L2-FDCC',\n",
       " 'noaa-goes16/ABI-L2-FDCF',\n",
       " 'noaa-goes16/ABI-L2-FDCM',\n",
       " 'noaa-goes16/ABI-L2-LSAC',\n",
       " 'noaa-goes16/ABI-L2-LSAF',\n",
       " 'noaa-goes16/ABI-L2-LSAM',\n",
       " 'noaa-goes16/ABI-L2-LST2KMF',\n",
       " 'noaa-goes16/ABI-L2-LSTC',\n",
       " 'noaa-goes16/ABI-L2-LSTF',\n",
       " 'noaa-goes16/ABI-L2-LSTM',\n",
       " 'noaa-goes16/ABI-L2-LVMPC',\n",
       " 'noaa-goes16/ABI-L2-LVMPF',\n",
       " 'noaa-goes16/ABI-L2-LVMPM',\n",
       " 'noaa-goes16/ABI-L2-LVTPC',\n",
       " 'noaa-goes16/ABI-L2-LVTPF',\n",
       " 'noaa-goes16/ABI-L2-LVTPM',\n",
       " 'noaa-goes16/ABI-L2-MCMIPC',\n",
       " 'noaa-goes16/ABI-L2-MCMIPF',\n",
       " 'noaa-goes16/ABI-L2-MCMIPM',\n",
       " 'noaa-goes16/ABI-L2-RRQPEF',\n",
       " 'noaa-goes16/ABI-L2-RSRC',\n",
       " 'noaa-goes16/ABI-L2-RSRF',\n",
       " 'noaa-goes16/ABI-L2-SSTF',\n",
       " 'noaa-goes16/ABI-L2-TPWC',\n",
       " 'noaa-goes16/ABI-L2-TPWF',\n",
       " 'noaa-goes16/ABI-L2-TPWM',\n",
       " 'noaa-goes16/ABI-L2-VAAF',\n",
       " 'noaa-goes16/Beginners_Guide_to_GOES-R_Series_Data.pdf',\n",
       " 'noaa-goes16/EXIS-L1b-SFEU',\n",
       " 'noaa-goes16/EXIS-L1b-SFXR',\n",
       " 'noaa-goes16/GLM-L2-LCFA',\n",
       " 'noaa-goes16/MAG-L1b-GEOF',\n",
       " 'noaa-goes16/SEIS-L1b-EHIS',\n",
       " 'noaa-goes16/SEIS-L1b-MPSH',\n",
       " 'noaa-goes16/SEIS-L1b-MPSL',\n",
       " 'noaa-goes16/SEIS-L1b-SGPS',\n",
       " 'noaa-goes16/SUVI-L1b-Fe093',\n",
       " 'noaa-goes16/SUVI-L1b-Fe131',\n",
       " 'noaa-goes16/SUVI-L1b-Fe171',\n",
       " 'noaa-goes16/SUVI-L1b-Fe195',\n",
       " 'noaa-goes16/SUVI-L1b-Fe284',\n",
       " 'noaa-goes16/SUVI-L1b-He303',\n",
       " 'noaa-goes16/Version1.1_Beginners_Guide_to_GOES-R_Series_Data.pdf',\n",
       " 'noaa-goes16/index.html']"
      ]
     },
     "execution_count": 123,
     "metadata": {},
     "output_type": "execute_result"
    }
   ],
   "source": [
    "products_available = aws.glob(base_folder.joinpath('*').as_posix())\n",
    "products_available"
   ]
  },
  {
   "cell_type": "markdown",
   "metadata": {},
   "source": [
    "### example product AOD conus"
   ]
  },
  {
   "cell_type": "code",
   "execution_count": 124,
   "metadata": {},
   "outputs": [],
   "source": [
    "# product = 'ABI-L2-DMWVC'#'ABI-L1b-RadC'\"\"\n",
    "# product = 'ABI-L2-AODC' \n",
    "# product = 'ABI-L2-ACHTF'\n",
    "product = 'ABI-L2-FDCC'"
   ]
  },
  {
   "cell_type": "code",
   "execution_count": 125,
   "metadata": {},
   "outputs": [
    {
     "data": {
      "text/plain": [
       "['noaa-goes16/ABI-L2-FDCC/2017',\n",
       " 'noaa-goes16/ABI-L2-FDCC/2018',\n",
       " 'noaa-goes16/ABI-L2-FDCC/2019',\n",
       " 'noaa-goes16/ABI-L2-FDCC/2020',\n",
       " 'noaa-goes16/ABI-L2-FDCC/2021',\n",
       " 'noaa-goes16/ABI-L2-FDCC/2022']"
      ]
     },
     "execution_count": 125,
     "metadata": {},
     "output_type": "execute_result"
    }
   ],
   "source": [
    "years_available = aws.glob(base_folder.joinpath(product).joinpath('*').as_posix())\n",
    "years_available"
   ]
  },
  {
   "cell_type": "code",
   "execution_count": 134,
   "metadata": {},
   "outputs": [],
   "source": [
    "year = 2020"
   ]
  },
  {
   "cell_type": "code",
   "execution_count": 135,
   "metadata": {},
   "outputs": [],
   "source": [
    "dt = pd.to_datetime('2018-09-30')"
   ]
  },
  {
   "cell_type": "code",
   "execution_count": 136,
   "metadata": {},
   "outputs": [
    {
     "data": {
      "text/plain": [
       "273"
      ]
     },
     "execution_count": 136,
     "metadata": {},
     "output_type": "execute_result"
    }
   ],
   "source": [
    "dt.day_of_year"
   ]
  },
  {
   "cell_type": "code",
   "execution_count": 137,
   "metadata": {
    "tags": []
   },
   "outputs": [
    {
     "data": {
      "text/plain": [
       "['noaa-goes16/ABI-L2-FDCC/2020/001',\n",
       " 'noaa-goes16/ABI-L2-FDCC/2020/002',\n",
       " 'noaa-goes16/ABI-L2-FDCC/2020/003',\n",
       " 'noaa-goes16/ABI-L2-FDCC/2020/004',\n",
       " 'noaa-goes16/ABI-L2-FDCC/2020/005',\n",
       " 'noaa-goes16/ABI-L2-FDCC/2020/006',\n",
       " 'noaa-goes16/ABI-L2-FDCC/2020/007',\n",
       " 'noaa-goes16/ABI-L2-FDCC/2020/008',\n",
       " 'noaa-goes16/ABI-L2-FDCC/2020/009',\n",
       " 'noaa-goes16/ABI-L2-FDCC/2020/010',\n",
       " 'noaa-goes16/ABI-L2-FDCC/2020/011',\n",
       " 'noaa-goes16/ABI-L2-FDCC/2020/012',\n",
       " 'noaa-goes16/ABI-L2-FDCC/2020/013',\n",
       " 'noaa-goes16/ABI-L2-FDCC/2020/014',\n",
       " 'noaa-goes16/ABI-L2-FDCC/2020/015',\n",
       " 'noaa-goes16/ABI-L2-FDCC/2020/016',\n",
       " 'noaa-goes16/ABI-L2-FDCC/2020/017',\n",
       " 'noaa-goes16/ABI-L2-FDCC/2020/018',\n",
       " 'noaa-goes16/ABI-L2-FDCC/2020/019',\n",
       " 'noaa-goes16/ABI-L2-FDCC/2020/020',\n",
       " 'noaa-goes16/ABI-L2-FDCC/2020/021',\n",
       " 'noaa-goes16/ABI-L2-FDCC/2020/022',\n",
       " 'noaa-goes16/ABI-L2-FDCC/2020/023',\n",
       " 'noaa-goes16/ABI-L2-FDCC/2020/024',\n",
       " 'noaa-goes16/ABI-L2-FDCC/2020/025',\n",
       " 'noaa-goes16/ABI-L2-FDCC/2020/026',\n",
       " 'noaa-goes16/ABI-L2-FDCC/2020/027',\n",
       " 'noaa-goes16/ABI-L2-FDCC/2020/028',\n",
       " 'noaa-goes16/ABI-L2-FDCC/2020/029',\n",
       " 'noaa-goes16/ABI-L2-FDCC/2020/030',\n",
       " 'noaa-goes16/ABI-L2-FDCC/2020/031',\n",
       " 'noaa-goes16/ABI-L2-FDCC/2020/032',\n",
       " 'noaa-goes16/ABI-L2-FDCC/2020/033',\n",
       " 'noaa-goes16/ABI-L2-FDCC/2020/034',\n",
       " 'noaa-goes16/ABI-L2-FDCC/2020/035',\n",
       " 'noaa-goes16/ABI-L2-FDCC/2020/036',\n",
       " 'noaa-goes16/ABI-L2-FDCC/2020/037',\n",
       " 'noaa-goes16/ABI-L2-FDCC/2020/038',\n",
       " 'noaa-goes16/ABI-L2-FDCC/2020/039',\n",
       " 'noaa-goes16/ABI-L2-FDCC/2020/040',\n",
       " 'noaa-goes16/ABI-L2-FDCC/2020/041',\n",
       " 'noaa-goes16/ABI-L2-FDCC/2020/042',\n",
       " 'noaa-goes16/ABI-L2-FDCC/2020/043',\n",
       " 'noaa-goes16/ABI-L2-FDCC/2020/044',\n",
       " 'noaa-goes16/ABI-L2-FDCC/2020/045',\n",
       " 'noaa-goes16/ABI-L2-FDCC/2020/046',\n",
       " 'noaa-goes16/ABI-L2-FDCC/2020/047',\n",
       " 'noaa-goes16/ABI-L2-FDCC/2020/048',\n",
       " 'noaa-goes16/ABI-L2-FDCC/2020/049',\n",
       " 'noaa-goes16/ABI-L2-FDCC/2020/050',\n",
       " 'noaa-goes16/ABI-L2-FDCC/2020/051',\n",
       " 'noaa-goes16/ABI-L2-FDCC/2020/052',\n",
       " 'noaa-goes16/ABI-L2-FDCC/2020/053',\n",
       " 'noaa-goes16/ABI-L2-FDCC/2020/054',\n",
       " 'noaa-goes16/ABI-L2-FDCC/2020/055',\n",
       " 'noaa-goes16/ABI-L2-FDCC/2020/056',\n",
       " 'noaa-goes16/ABI-L2-FDCC/2020/057',\n",
       " 'noaa-goes16/ABI-L2-FDCC/2020/058',\n",
       " 'noaa-goes16/ABI-L2-FDCC/2020/059',\n",
       " 'noaa-goes16/ABI-L2-FDCC/2020/060',\n",
       " 'noaa-goes16/ABI-L2-FDCC/2020/061',\n",
       " 'noaa-goes16/ABI-L2-FDCC/2020/062',\n",
       " 'noaa-goes16/ABI-L2-FDCC/2020/063',\n",
       " 'noaa-goes16/ABI-L2-FDCC/2020/064',\n",
       " 'noaa-goes16/ABI-L2-FDCC/2020/065',\n",
       " 'noaa-goes16/ABI-L2-FDCC/2020/066',\n",
       " 'noaa-goes16/ABI-L2-FDCC/2020/067',\n",
       " 'noaa-goes16/ABI-L2-FDCC/2020/068',\n",
       " 'noaa-goes16/ABI-L2-FDCC/2020/069',\n",
       " 'noaa-goes16/ABI-L2-FDCC/2020/070',\n",
       " 'noaa-goes16/ABI-L2-FDCC/2020/071',\n",
       " 'noaa-goes16/ABI-L2-FDCC/2020/072',\n",
       " 'noaa-goes16/ABI-L2-FDCC/2020/073',\n",
       " 'noaa-goes16/ABI-L2-FDCC/2020/074',\n",
       " 'noaa-goes16/ABI-L2-FDCC/2020/075',\n",
       " 'noaa-goes16/ABI-L2-FDCC/2020/076',\n",
       " 'noaa-goes16/ABI-L2-FDCC/2020/077',\n",
       " 'noaa-goes16/ABI-L2-FDCC/2020/078',\n",
       " 'noaa-goes16/ABI-L2-FDCC/2020/079',\n",
       " 'noaa-goes16/ABI-L2-FDCC/2020/080',\n",
       " 'noaa-goes16/ABI-L2-FDCC/2020/081',\n",
       " 'noaa-goes16/ABI-L2-FDCC/2020/082',\n",
       " 'noaa-goes16/ABI-L2-FDCC/2020/083',\n",
       " 'noaa-goes16/ABI-L2-FDCC/2020/084',\n",
       " 'noaa-goes16/ABI-L2-FDCC/2020/085',\n",
       " 'noaa-goes16/ABI-L2-FDCC/2020/086',\n",
       " 'noaa-goes16/ABI-L2-FDCC/2020/087',\n",
       " 'noaa-goes16/ABI-L2-FDCC/2020/088',\n",
       " 'noaa-goes16/ABI-L2-FDCC/2020/089',\n",
       " 'noaa-goes16/ABI-L2-FDCC/2020/090',\n",
       " 'noaa-goes16/ABI-L2-FDCC/2020/091',\n",
       " 'noaa-goes16/ABI-L2-FDCC/2020/092',\n",
       " 'noaa-goes16/ABI-L2-FDCC/2020/093',\n",
       " 'noaa-goes16/ABI-L2-FDCC/2020/094',\n",
       " 'noaa-goes16/ABI-L2-FDCC/2020/095',\n",
       " 'noaa-goes16/ABI-L2-FDCC/2020/096',\n",
       " 'noaa-goes16/ABI-L2-FDCC/2020/097',\n",
       " 'noaa-goes16/ABI-L2-FDCC/2020/098',\n",
       " 'noaa-goes16/ABI-L2-FDCC/2020/099',\n",
       " 'noaa-goes16/ABI-L2-FDCC/2020/100',\n",
       " 'noaa-goes16/ABI-L2-FDCC/2020/101',\n",
       " 'noaa-goes16/ABI-L2-FDCC/2020/102',\n",
       " 'noaa-goes16/ABI-L2-FDCC/2020/103',\n",
       " 'noaa-goes16/ABI-L2-FDCC/2020/104',\n",
       " 'noaa-goes16/ABI-L2-FDCC/2020/105',\n",
       " 'noaa-goes16/ABI-L2-FDCC/2020/106',\n",
       " 'noaa-goes16/ABI-L2-FDCC/2020/107',\n",
       " 'noaa-goes16/ABI-L2-FDCC/2020/108',\n",
       " 'noaa-goes16/ABI-L2-FDCC/2020/109',\n",
       " 'noaa-goes16/ABI-L2-FDCC/2020/110',\n",
       " 'noaa-goes16/ABI-L2-FDCC/2020/111',\n",
       " 'noaa-goes16/ABI-L2-FDCC/2020/112',\n",
       " 'noaa-goes16/ABI-L2-FDCC/2020/113',\n",
       " 'noaa-goes16/ABI-L2-FDCC/2020/114',\n",
       " 'noaa-goes16/ABI-L2-FDCC/2020/115',\n",
       " 'noaa-goes16/ABI-L2-FDCC/2020/116',\n",
       " 'noaa-goes16/ABI-L2-FDCC/2020/117',\n",
       " 'noaa-goes16/ABI-L2-FDCC/2020/118',\n",
       " 'noaa-goes16/ABI-L2-FDCC/2020/119',\n",
       " 'noaa-goes16/ABI-L2-FDCC/2020/120',\n",
       " 'noaa-goes16/ABI-L2-FDCC/2020/121',\n",
       " 'noaa-goes16/ABI-L2-FDCC/2020/122',\n",
       " 'noaa-goes16/ABI-L2-FDCC/2020/123',\n",
       " 'noaa-goes16/ABI-L2-FDCC/2020/124',\n",
       " 'noaa-goes16/ABI-L2-FDCC/2020/125',\n",
       " 'noaa-goes16/ABI-L2-FDCC/2020/126',\n",
       " 'noaa-goes16/ABI-L2-FDCC/2020/127',\n",
       " 'noaa-goes16/ABI-L2-FDCC/2020/128',\n",
       " 'noaa-goes16/ABI-L2-FDCC/2020/129',\n",
       " 'noaa-goes16/ABI-L2-FDCC/2020/130',\n",
       " 'noaa-goes16/ABI-L2-FDCC/2020/131',\n",
       " 'noaa-goes16/ABI-L2-FDCC/2020/132',\n",
       " 'noaa-goes16/ABI-L2-FDCC/2020/133',\n",
       " 'noaa-goes16/ABI-L2-FDCC/2020/134',\n",
       " 'noaa-goes16/ABI-L2-FDCC/2020/135',\n",
       " 'noaa-goes16/ABI-L2-FDCC/2020/136',\n",
       " 'noaa-goes16/ABI-L2-FDCC/2020/137',\n",
       " 'noaa-goes16/ABI-L2-FDCC/2020/138',\n",
       " 'noaa-goes16/ABI-L2-FDCC/2020/139',\n",
       " 'noaa-goes16/ABI-L2-FDCC/2020/140',\n",
       " 'noaa-goes16/ABI-L2-FDCC/2020/141',\n",
       " 'noaa-goes16/ABI-L2-FDCC/2020/142',\n",
       " 'noaa-goes16/ABI-L2-FDCC/2020/143',\n",
       " 'noaa-goes16/ABI-L2-FDCC/2020/144',\n",
       " 'noaa-goes16/ABI-L2-FDCC/2020/145',\n",
       " 'noaa-goes16/ABI-L2-FDCC/2020/146',\n",
       " 'noaa-goes16/ABI-L2-FDCC/2020/147',\n",
       " 'noaa-goes16/ABI-L2-FDCC/2020/148',\n",
       " 'noaa-goes16/ABI-L2-FDCC/2020/149',\n",
       " 'noaa-goes16/ABI-L2-FDCC/2020/150',\n",
       " 'noaa-goes16/ABI-L2-FDCC/2020/151',\n",
       " 'noaa-goes16/ABI-L2-FDCC/2020/152',\n",
       " 'noaa-goes16/ABI-L2-FDCC/2020/153',\n",
       " 'noaa-goes16/ABI-L2-FDCC/2020/154',\n",
       " 'noaa-goes16/ABI-L2-FDCC/2020/155',\n",
       " 'noaa-goes16/ABI-L2-FDCC/2020/156',\n",
       " 'noaa-goes16/ABI-L2-FDCC/2020/157',\n",
       " 'noaa-goes16/ABI-L2-FDCC/2020/158',\n",
       " 'noaa-goes16/ABI-L2-FDCC/2020/159',\n",
       " 'noaa-goes16/ABI-L2-FDCC/2020/160',\n",
       " 'noaa-goes16/ABI-L2-FDCC/2020/161',\n",
       " 'noaa-goes16/ABI-L2-FDCC/2020/162',\n",
       " 'noaa-goes16/ABI-L2-FDCC/2020/163',\n",
       " 'noaa-goes16/ABI-L2-FDCC/2020/164',\n",
       " 'noaa-goes16/ABI-L2-FDCC/2020/165',\n",
       " 'noaa-goes16/ABI-L2-FDCC/2020/166',\n",
       " 'noaa-goes16/ABI-L2-FDCC/2020/167',\n",
       " 'noaa-goes16/ABI-L2-FDCC/2020/168',\n",
       " 'noaa-goes16/ABI-L2-FDCC/2020/169',\n",
       " 'noaa-goes16/ABI-L2-FDCC/2020/170',\n",
       " 'noaa-goes16/ABI-L2-FDCC/2020/171',\n",
       " 'noaa-goes16/ABI-L2-FDCC/2020/172',\n",
       " 'noaa-goes16/ABI-L2-FDCC/2020/173',\n",
       " 'noaa-goes16/ABI-L2-FDCC/2020/174',\n",
       " 'noaa-goes16/ABI-L2-FDCC/2020/175',\n",
       " 'noaa-goes16/ABI-L2-FDCC/2020/176',\n",
       " 'noaa-goes16/ABI-L2-FDCC/2020/177',\n",
       " 'noaa-goes16/ABI-L2-FDCC/2020/178',\n",
       " 'noaa-goes16/ABI-L2-FDCC/2020/179',\n",
       " 'noaa-goes16/ABI-L2-FDCC/2020/180',\n",
       " 'noaa-goes16/ABI-L2-FDCC/2020/181',\n",
       " 'noaa-goes16/ABI-L2-FDCC/2020/182',\n",
       " 'noaa-goes16/ABI-L2-FDCC/2020/183',\n",
       " 'noaa-goes16/ABI-L2-FDCC/2020/184',\n",
       " 'noaa-goes16/ABI-L2-FDCC/2020/185',\n",
       " 'noaa-goes16/ABI-L2-FDCC/2020/186',\n",
       " 'noaa-goes16/ABI-L2-FDCC/2020/187',\n",
       " 'noaa-goes16/ABI-L2-FDCC/2020/188',\n",
       " 'noaa-goes16/ABI-L2-FDCC/2020/189',\n",
       " 'noaa-goes16/ABI-L2-FDCC/2020/190',\n",
       " 'noaa-goes16/ABI-L2-FDCC/2020/191',\n",
       " 'noaa-goes16/ABI-L2-FDCC/2020/192',\n",
       " 'noaa-goes16/ABI-L2-FDCC/2020/193',\n",
       " 'noaa-goes16/ABI-L2-FDCC/2020/194',\n",
       " 'noaa-goes16/ABI-L2-FDCC/2020/195',\n",
       " 'noaa-goes16/ABI-L2-FDCC/2020/196',\n",
       " 'noaa-goes16/ABI-L2-FDCC/2020/197',\n",
       " 'noaa-goes16/ABI-L2-FDCC/2020/198',\n",
       " 'noaa-goes16/ABI-L2-FDCC/2020/199',\n",
       " 'noaa-goes16/ABI-L2-FDCC/2020/200',\n",
       " 'noaa-goes16/ABI-L2-FDCC/2020/201',\n",
       " 'noaa-goes16/ABI-L2-FDCC/2020/202',\n",
       " 'noaa-goes16/ABI-L2-FDCC/2020/203',\n",
       " 'noaa-goes16/ABI-L2-FDCC/2020/204',\n",
       " 'noaa-goes16/ABI-L2-FDCC/2020/205',\n",
       " 'noaa-goes16/ABI-L2-FDCC/2020/206',\n",
       " 'noaa-goes16/ABI-L2-FDCC/2020/207',\n",
       " 'noaa-goes16/ABI-L2-FDCC/2020/208',\n",
       " 'noaa-goes16/ABI-L2-FDCC/2020/209',\n",
       " 'noaa-goes16/ABI-L2-FDCC/2020/210',\n",
       " 'noaa-goes16/ABI-L2-FDCC/2020/211',\n",
       " 'noaa-goes16/ABI-L2-FDCC/2020/212',\n",
       " 'noaa-goes16/ABI-L2-FDCC/2020/213',\n",
       " 'noaa-goes16/ABI-L2-FDCC/2020/214',\n",
       " 'noaa-goes16/ABI-L2-FDCC/2020/215',\n",
       " 'noaa-goes16/ABI-L2-FDCC/2020/216',\n",
       " 'noaa-goes16/ABI-L2-FDCC/2020/217',\n",
       " 'noaa-goes16/ABI-L2-FDCC/2020/218',\n",
       " 'noaa-goes16/ABI-L2-FDCC/2020/219',\n",
       " 'noaa-goes16/ABI-L2-FDCC/2020/220',\n",
       " 'noaa-goes16/ABI-L2-FDCC/2020/221',\n",
       " 'noaa-goes16/ABI-L2-FDCC/2020/222',\n",
       " 'noaa-goes16/ABI-L2-FDCC/2020/223',\n",
       " 'noaa-goes16/ABI-L2-FDCC/2020/224',\n",
       " 'noaa-goes16/ABI-L2-FDCC/2020/225',\n",
       " 'noaa-goes16/ABI-L2-FDCC/2020/226',\n",
       " 'noaa-goes16/ABI-L2-FDCC/2020/227',\n",
       " 'noaa-goes16/ABI-L2-FDCC/2020/228',\n",
       " 'noaa-goes16/ABI-L2-FDCC/2020/229',\n",
       " 'noaa-goes16/ABI-L2-FDCC/2020/230',\n",
       " 'noaa-goes16/ABI-L2-FDCC/2020/231',\n",
       " 'noaa-goes16/ABI-L2-FDCC/2020/232',\n",
       " 'noaa-goes16/ABI-L2-FDCC/2020/233',\n",
       " 'noaa-goes16/ABI-L2-FDCC/2020/234',\n",
       " 'noaa-goes16/ABI-L2-FDCC/2020/235',\n",
       " 'noaa-goes16/ABI-L2-FDCC/2020/236',\n",
       " 'noaa-goes16/ABI-L2-FDCC/2020/237',\n",
       " 'noaa-goes16/ABI-L2-FDCC/2020/238',\n",
       " 'noaa-goes16/ABI-L2-FDCC/2020/239',\n",
       " 'noaa-goes16/ABI-L2-FDCC/2020/240',\n",
       " 'noaa-goes16/ABI-L2-FDCC/2020/241',\n",
       " 'noaa-goes16/ABI-L2-FDCC/2020/242',\n",
       " 'noaa-goes16/ABI-L2-FDCC/2020/243',\n",
       " 'noaa-goes16/ABI-L2-FDCC/2020/244',\n",
       " 'noaa-goes16/ABI-L2-FDCC/2020/245',\n",
       " 'noaa-goes16/ABI-L2-FDCC/2020/246',\n",
       " 'noaa-goes16/ABI-L2-FDCC/2020/247',\n",
       " 'noaa-goes16/ABI-L2-FDCC/2020/248',\n",
       " 'noaa-goes16/ABI-L2-FDCC/2020/249',\n",
       " 'noaa-goes16/ABI-L2-FDCC/2020/250',\n",
       " 'noaa-goes16/ABI-L2-FDCC/2020/251',\n",
       " 'noaa-goes16/ABI-L2-FDCC/2020/252',\n",
       " 'noaa-goes16/ABI-L2-FDCC/2020/253',\n",
       " 'noaa-goes16/ABI-L2-FDCC/2020/254',\n",
       " 'noaa-goes16/ABI-L2-FDCC/2020/255',\n",
       " 'noaa-goes16/ABI-L2-FDCC/2020/256',\n",
       " 'noaa-goes16/ABI-L2-FDCC/2020/257',\n",
       " 'noaa-goes16/ABI-L2-FDCC/2020/258',\n",
       " 'noaa-goes16/ABI-L2-FDCC/2020/259',\n",
       " 'noaa-goes16/ABI-L2-FDCC/2020/260',\n",
       " 'noaa-goes16/ABI-L2-FDCC/2020/261',\n",
       " 'noaa-goes16/ABI-L2-FDCC/2020/262',\n",
       " 'noaa-goes16/ABI-L2-FDCC/2020/263',\n",
       " 'noaa-goes16/ABI-L2-FDCC/2020/264',\n",
       " 'noaa-goes16/ABI-L2-FDCC/2020/265',\n",
       " 'noaa-goes16/ABI-L2-FDCC/2020/266',\n",
       " 'noaa-goes16/ABI-L2-FDCC/2020/267',\n",
       " 'noaa-goes16/ABI-L2-FDCC/2020/268',\n",
       " 'noaa-goes16/ABI-L2-FDCC/2020/269',\n",
       " 'noaa-goes16/ABI-L2-FDCC/2020/270',\n",
       " 'noaa-goes16/ABI-L2-FDCC/2020/271',\n",
       " 'noaa-goes16/ABI-L2-FDCC/2020/272',\n",
       " 'noaa-goes16/ABI-L2-FDCC/2020/273',\n",
       " 'noaa-goes16/ABI-L2-FDCC/2020/274',\n",
       " 'noaa-goes16/ABI-L2-FDCC/2020/275',\n",
       " 'noaa-goes16/ABI-L2-FDCC/2020/276',\n",
       " 'noaa-goes16/ABI-L2-FDCC/2020/277',\n",
       " 'noaa-goes16/ABI-L2-FDCC/2020/278',\n",
       " 'noaa-goes16/ABI-L2-FDCC/2020/279',\n",
       " 'noaa-goes16/ABI-L2-FDCC/2020/280',\n",
       " 'noaa-goes16/ABI-L2-FDCC/2020/281',\n",
       " 'noaa-goes16/ABI-L2-FDCC/2020/282',\n",
       " 'noaa-goes16/ABI-L2-FDCC/2020/283',\n",
       " 'noaa-goes16/ABI-L2-FDCC/2020/284',\n",
       " 'noaa-goes16/ABI-L2-FDCC/2020/285',\n",
       " 'noaa-goes16/ABI-L2-FDCC/2020/286',\n",
       " 'noaa-goes16/ABI-L2-FDCC/2020/287',\n",
       " 'noaa-goes16/ABI-L2-FDCC/2020/288',\n",
       " 'noaa-goes16/ABI-L2-FDCC/2020/289',\n",
       " 'noaa-goes16/ABI-L2-FDCC/2020/290',\n",
       " 'noaa-goes16/ABI-L2-FDCC/2020/291',\n",
       " 'noaa-goes16/ABI-L2-FDCC/2020/292',\n",
       " 'noaa-goes16/ABI-L2-FDCC/2020/293',\n",
       " 'noaa-goes16/ABI-L2-FDCC/2020/294',\n",
       " 'noaa-goes16/ABI-L2-FDCC/2020/295',\n",
       " 'noaa-goes16/ABI-L2-FDCC/2020/296',\n",
       " 'noaa-goes16/ABI-L2-FDCC/2020/297',\n",
       " 'noaa-goes16/ABI-L2-FDCC/2020/298',\n",
       " 'noaa-goes16/ABI-L2-FDCC/2020/299',\n",
       " 'noaa-goes16/ABI-L2-FDCC/2020/300',\n",
       " 'noaa-goes16/ABI-L2-FDCC/2020/301',\n",
       " 'noaa-goes16/ABI-L2-FDCC/2020/302',\n",
       " 'noaa-goes16/ABI-L2-FDCC/2020/303',\n",
       " 'noaa-goes16/ABI-L2-FDCC/2020/304',\n",
       " 'noaa-goes16/ABI-L2-FDCC/2020/305',\n",
       " 'noaa-goes16/ABI-L2-FDCC/2020/306',\n",
       " 'noaa-goes16/ABI-L2-FDCC/2020/307',\n",
       " 'noaa-goes16/ABI-L2-FDCC/2020/308',\n",
       " 'noaa-goes16/ABI-L2-FDCC/2020/309',\n",
       " 'noaa-goes16/ABI-L2-FDCC/2020/310',\n",
       " 'noaa-goes16/ABI-L2-FDCC/2020/311',\n",
       " 'noaa-goes16/ABI-L2-FDCC/2020/312',\n",
       " 'noaa-goes16/ABI-L2-FDCC/2020/313',\n",
       " 'noaa-goes16/ABI-L2-FDCC/2020/314',\n",
       " 'noaa-goes16/ABI-L2-FDCC/2020/315',\n",
       " 'noaa-goes16/ABI-L2-FDCC/2020/316',\n",
       " 'noaa-goes16/ABI-L2-FDCC/2020/317',\n",
       " 'noaa-goes16/ABI-L2-FDCC/2020/318',\n",
       " 'noaa-goes16/ABI-L2-FDCC/2020/319',\n",
       " 'noaa-goes16/ABI-L2-FDCC/2020/320',\n",
       " 'noaa-goes16/ABI-L2-FDCC/2020/321',\n",
       " 'noaa-goes16/ABI-L2-FDCC/2020/322',\n",
       " 'noaa-goes16/ABI-L2-FDCC/2020/323',\n",
       " 'noaa-goes16/ABI-L2-FDCC/2020/324',\n",
       " 'noaa-goes16/ABI-L2-FDCC/2020/325',\n",
       " 'noaa-goes16/ABI-L2-FDCC/2020/326',\n",
       " 'noaa-goes16/ABI-L2-FDCC/2020/327',\n",
       " 'noaa-goes16/ABI-L2-FDCC/2020/328',\n",
       " 'noaa-goes16/ABI-L2-FDCC/2020/329',\n",
       " 'noaa-goes16/ABI-L2-FDCC/2020/330',\n",
       " 'noaa-goes16/ABI-L2-FDCC/2020/331',\n",
       " 'noaa-goes16/ABI-L2-FDCC/2020/332',\n",
       " 'noaa-goes16/ABI-L2-FDCC/2020/333',\n",
       " 'noaa-goes16/ABI-L2-FDCC/2020/334',\n",
       " 'noaa-goes16/ABI-L2-FDCC/2020/335',\n",
       " 'noaa-goes16/ABI-L2-FDCC/2020/336',\n",
       " 'noaa-goes16/ABI-L2-FDCC/2020/337',\n",
       " 'noaa-goes16/ABI-L2-FDCC/2020/338',\n",
       " 'noaa-goes16/ABI-L2-FDCC/2020/339',\n",
       " 'noaa-goes16/ABI-L2-FDCC/2020/340',\n",
       " 'noaa-goes16/ABI-L2-FDCC/2020/341',\n",
       " 'noaa-goes16/ABI-L2-FDCC/2020/342',\n",
       " 'noaa-goes16/ABI-L2-FDCC/2020/343',\n",
       " 'noaa-goes16/ABI-L2-FDCC/2020/344',\n",
       " 'noaa-goes16/ABI-L2-FDCC/2020/345',\n",
       " 'noaa-goes16/ABI-L2-FDCC/2020/346',\n",
       " 'noaa-goes16/ABI-L2-FDCC/2020/347',\n",
       " 'noaa-goes16/ABI-L2-FDCC/2020/348',\n",
       " 'noaa-goes16/ABI-L2-FDCC/2020/349',\n",
       " 'noaa-goes16/ABI-L2-FDCC/2020/350',\n",
       " 'noaa-goes16/ABI-L2-FDCC/2020/351',\n",
       " 'noaa-goes16/ABI-L2-FDCC/2020/352',\n",
       " 'noaa-goes16/ABI-L2-FDCC/2020/353',\n",
       " 'noaa-goes16/ABI-L2-FDCC/2020/354',\n",
       " 'noaa-goes16/ABI-L2-FDCC/2020/355',\n",
       " 'noaa-goes16/ABI-L2-FDCC/2020/356',\n",
       " 'noaa-goes16/ABI-L2-FDCC/2020/357',\n",
       " 'noaa-goes16/ABI-L2-FDCC/2020/358',\n",
       " 'noaa-goes16/ABI-L2-FDCC/2020/359',\n",
       " 'noaa-goes16/ABI-L2-FDCC/2020/360',\n",
       " 'noaa-goes16/ABI-L2-FDCC/2020/361',\n",
       " 'noaa-goes16/ABI-L2-FDCC/2020/362',\n",
       " 'noaa-goes16/ABI-L2-FDCC/2020/363',\n",
       " 'noaa-goes16/ABI-L2-FDCC/2020/364',\n",
       " 'noaa-goes16/ABI-L2-FDCC/2020/365',\n",
       " 'noaa-goes16/ABI-L2-FDCC/2020/366']"
      ]
     },
     "execution_count": 137,
     "metadata": {},
     "output_type": "execute_result"
    }
   ],
   "source": [
    "days_available = aws.glob(base_folder.joinpath(product).joinpath(f'{year}').joinpath('*').as_posix())\n",
    "days_available"
   ]
  },
  {
   "cell_type": "code",
   "execution_count": 141,
   "metadata": {},
   "outputs": [],
   "source": [
    "day = 274"
   ]
  },
  {
   "cell_type": "code",
   "execution_count": null,
   "metadata": {},
   "outputs": [],
   "source": [
    "noaa-goes16/ABI-L2-FDC/2020/274/17/"
   ]
  },
  {
   "cell_type": "code",
   "execution_count": 142,
   "metadata": {},
   "outputs": [
    {
     "data": {
      "text/plain": [
       "['noaa-goes16/ABI-L2-FDCC/2020/274/00',\n",
       " 'noaa-goes16/ABI-L2-FDCC/2020/274/01',\n",
       " 'noaa-goes16/ABI-L2-FDCC/2020/274/02',\n",
       " 'noaa-goes16/ABI-L2-FDCC/2020/274/03',\n",
       " 'noaa-goes16/ABI-L2-FDCC/2020/274/04',\n",
       " 'noaa-goes16/ABI-L2-FDCC/2020/274/05',\n",
       " 'noaa-goes16/ABI-L2-FDCC/2020/274/06',\n",
       " 'noaa-goes16/ABI-L2-FDCC/2020/274/07',\n",
       " 'noaa-goes16/ABI-L2-FDCC/2020/274/08',\n",
       " 'noaa-goes16/ABI-L2-FDCC/2020/274/09',\n",
       " 'noaa-goes16/ABI-L2-FDCC/2020/274/10',\n",
       " 'noaa-goes16/ABI-L2-FDCC/2020/274/11',\n",
       " 'noaa-goes16/ABI-L2-FDCC/2020/274/12',\n",
       " 'noaa-goes16/ABI-L2-FDCC/2020/274/13',\n",
       " 'noaa-goes16/ABI-L2-FDCC/2020/274/14',\n",
       " 'noaa-goes16/ABI-L2-FDCC/2020/274/15',\n",
       " 'noaa-goes16/ABI-L2-FDCC/2020/274/16',\n",
       " 'noaa-goes16/ABI-L2-FDCC/2020/274/17',\n",
       " 'noaa-goes16/ABI-L2-FDCC/2020/274/18',\n",
       " 'noaa-goes16/ABI-L2-FDCC/2020/274/19',\n",
       " 'noaa-goes16/ABI-L2-FDCC/2020/274/20',\n",
       " 'noaa-goes16/ABI-L2-FDCC/2020/274/21',\n",
       " 'noaa-goes16/ABI-L2-FDCC/2020/274/22',\n",
       " 'noaa-goes16/ABI-L2-FDCC/2020/274/23']"
      ]
     },
     "execution_count": 142,
     "metadata": {},
     "output_type": "execute_result"
    }
   ],
   "source": [
    "hours_available = aws.glob(base_folder.joinpath(product).joinpath(f'{year}').joinpath(f'{day:03d}').joinpath('*').as_posix())\n",
    "hours_available"
   ]
  },
  {
   "cell_type": "code",
   "execution_count": 140,
   "metadata": {},
   "outputs": [
    {
     "data": {
      "text/plain": [
       "['noaa-goes16/ABI-L2-FDCC/2020/273/09/OR_ABI-L2-FDCC-M6_G16_s20202730901168_e20202730903541_c20202730904263.nc',\n",
       " 'noaa-goes16/ABI-L2-FDCC/2020/273/09/OR_ABI-L2-FDCC-M6_G16_s20202730906168_e20202730908541_c20202730909250.nc',\n",
       " 'noaa-goes16/ABI-L2-FDCC/2020/273/09/OR_ABI-L2-FDCC-M6_G16_s20202730911168_e20202730913541_c20202730914232.nc',\n",
       " 'noaa-goes16/ABI-L2-FDCC/2020/273/09/OR_ABI-L2-FDCC-M6_G16_s20202730916168_e20202730918541_c20202730919239.nc',\n",
       " 'noaa-goes16/ABI-L2-FDCC/2020/273/09/OR_ABI-L2-FDCC-M6_G16_s20202730921168_e20202730923541_c20202730924237.nc',\n",
       " 'noaa-goes16/ABI-L2-FDCC/2020/273/09/OR_ABI-L2-FDCC-M6_G16_s20202730926168_e20202730928541_c20202730929216.nc',\n",
       " 'noaa-goes16/ABI-L2-FDCC/2020/273/09/OR_ABI-L2-FDCC-M6_G16_s20202730931168_e20202730933541_c20202730934221.nc',\n",
       " 'noaa-goes16/ABI-L2-FDCC/2020/273/09/OR_ABI-L2-FDCC-M6_G16_s20202730936168_e20202730938541_c20202730939256.nc',\n",
       " 'noaa-goes16/ABI-L2-FDCC/2020/273/09/OR_ABI-L2-FDCC-M6_G16_s20202730941168_e20202730943541_c20202730944218.nc',\n",
       " 'noaa-goes16/ABI-L2-FDCC/2020/273/09/OR_ABI-L2-FDCC-M6_G16_s20202730946168_e20202730948541_c20202730949202.nc',\n",
       " 'noaa-goes16/ABI-L2-FDCC/2020/273/09/OR_ABI-L2-FDCC-M6_G16_s20202730951168_e20202730953541_c20202730954201.nc',\n",
       " 'noaa-goes16/ABI-L2-FDCC/2020/273/09/OR_ABI-L2-FDCC-M6_G16_s20202730956168_e20202730958541_c20202730959222.nc']"
      ]
     },
     "execution_count": 140,
     "metadata": {},
     "output_type": "execute_result"
    }
   ],
   "source": [
    "hour = 9\n",
    "files_available = aws.glob(base_folder.joinpath(product).joinpath(f'{year}').joinpath(f'{day:03d}').joinpath(f'{hour:02d}').joinpath('*').as_posix())\n",
    "files_available"
   ]
  },
  {
   "cell_type": "markdown",
   "metadata": {},
   "source": [
    "## Download a file"
   ]
  },
  {
   "cell_type": "code",
   "execution_count": 48,
   "metadata": {},
   "outputs": [],
   "source": [
    "path2file_aws = pl.Path(files_available[3])\n",
    "path2folder_loc =pl.Path('/mnt/telg/tmp/aws_tmp/') "
   ]
  },
  {
   "cell_type": "code",
   "execution_count": 49,
   "metadata": {},
   "outputs": [
    {
     "data": {
      "text/plain": [
       "PosixPath('/mnt/telg/tmp/aws_tmp/OR_ABI-L2-AODC-M6_G16_s20200900916180_e20200900918553_c20200900919522.nc')"
      ]
     },
     "execution_count": 49,
     "metadata": {},
     "output_type": "execute_result"
    }
   ],
   "source": [
    "path2file_local = path2folder_loc.joinpath(path2file_aws.name)\n",
    "path2file_local"
   ]
  },
  {
   "cell_type": "code",
   "execution_count": 51,
   "metadata": {},
   "outputs": [
    {
     "data": {
      "text/plain": [
       "[None]"
      ]
     },
     "execution_count": 51,
     "metadata": {},
     "output_type": "execute_result"
    }
   ],
   "source": [
    "aws.get(path2file_aws.as_posix(), path2file_local.as_posix())"
   ]
  },
  {
   "cell_type": "code",
   "execution_count": null,
   "metadata": {},
   "outputs": [],
   "source": []
  }
 ],
 "metadata": {
  "kernelspec": {
   "display_name": "py38",
   "language": "python",
   "name": "py38"
  },
  "language_info": {
   "codemirror_mode": {
    "name": "ipython",
    "version": 3
   },
   "file_extension": ".py",
   "mimetype": "text/x-python",
   "name": "python",
   "nbconvert_exporter": "python",
   "pygments_lexer": "ipython3",
   "version": "3.8.12"
  },
  "toc-autonumbering": true,
  "toc-showcode": false,
  "toc-showmarkdowntxt": false,
  "toc-showtags": false
 },
 "nbformat": 4,
 "nbformat_minor": 4
}
