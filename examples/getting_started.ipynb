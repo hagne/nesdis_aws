{
 "cells": [
  {
   "cell_type": "markdown",
   "metadata": {},
   "source": [
    "# Intro"
   ]
  },
  {
   "cell_type": "markdown",
   "metadata": {},
   "source": [
    "This notebook describes how to download NESDIS satellite data from the the Amazon cloud serves (AWS) using the nesdis_aws library. nesdis_aws is a wrapper around the s3fs library which is briefly intorduced further down on this page."
   ]
  },
  {
   "cell_type": "markdown",
   "metadata": {},
   "source": [
    "For info on the available data projects go to: https://docs.opendata.aws/noaa-goes16/cics-readme.html"
   ]
  },
  {
   "cell_type": "markdown",
   "metadata": {},
   "source": [
    "# imports"
   ]
  },
  {
   "cell_type": "code",
   "execution_count": 3,
   "metadata": {},
   "outputs": [],
   "source": [
    "# Module to interface with s3 (AWS)\n",
    "import s3fs\n",
    "import pathlib as pl"
   ]
  },
  {
   "cell_type": "markdown",
   "metadata": {},
   "source": [
    "# The nesdis_aws package"
   ]
  },
  {
   "cell_type": "markdown",
   "metadata": {},
   "source": [
    "availble here: https://github.com/hagne/nesdis_aws"
   ]
  },
  {
   "cell_type": "code",
   "execution_count": 2,
   "metadata": {},
   "outputs": [],
   "source": [
    "import nesdis_aws"
   ]
  },
  {
   "cell_type": "markdown",
   "metadata": {},
   "source": [
    "Initiate a data query. This will generate a list of available files. One can estimate the disk space that is needed and if sufficient space is available"
   ]
  },
  {
   "cell_type": "code",
   "execution_count": 7,
   "metadata": {},
   "outputs": [],
   "source": [
    "query = nesdis_aws.AwsQuery(path2folder_local='/mnt/telg/data/smoke_events/20200912_18_CO/goes_raw/',\n",
    "                            satellite='16',\n",
    "                            product='ABI-L2-AOD',\n",
    "                            scan_sector='C',\n",
    "                            start='2020-09-12 12:00:00',\n",
    "                            end='2020-09-19 13:00:00',\n",
    "                            no_of_days=None,\n",
    "                            last_x_days=None,\n",
    "                            max_no_of_files=100)"
   ]
  },
  {
   "cell_type": "code",
   "execution_count": 8,
   "metadata": {},
   "outputs": [
    {
     "name": "stdout",
     "output_type": "stream",
     "text": [
      "no of files: 2026\n",
      "estimated disk usage: 7771 mb\n",
      "remaining disk space after download: 48 %\n",
      "\n"
     ]
    }
   ],
   "source": [
    "print(query.info_on_current_query())\n"
   ]
  },
  {
   "cell_type": "markdown",
   "metadata": {},
   "source": [
    "## get subset of workplan"
   ]
  },
  {
   "cell_type": "markdown",
   "metadata": {},
   "source": [
    "The workplan is a pandas DataFrame, that can be altered like truncated or resampled."
   ]
  },
  {
   "cell_type": "markdown",
   "metadata": {},
   "source": [
    "Only consider every 10th row:"
   ]
  },
  {
   "cell_type": "code",
   "execution_count": 9,
   "metadata": {},
   "outputs": [
    {
     "data": {
      "text/html": [
       "<div>\n",
       "<style scoped>\n",
       "    .dataframe tbody tr th:only-of-type {\n",
       "        vertical-align: middle;\n",
       "    }\n",
       "\n",
       "    .dataframe tbody tr th {\n",
       "        vertical-align: top;\n",
       "    }\n",
       "\n",
       "    .dataframe thead th {\n",
       "        text-align: right;\n",
       "    }\n",
       "</style>\n",
       "<table border=\"1\" class=\"dataframe\">\n",
       "  <thead>\n",
       "    <tr style=\"text-align: right;\">\n",
       "      <th></th>\n",
       "      <th>path2file_aws</th>\n",
       "      <th>path2file_local</th>\n",
       "    </tr>\n",
       "  </thead>\n",
       "  <tbody>\n",
       "    <tr>\n",
       "      <th>2020-09-12 12:01:15</th>\n",
       "      <td>noaa-goes16/ABI-L2-AODC/2020/256/12/OR_ABI-L2-...</td>\n",
       "      <td>/mnt/telg/data/smoke_events/20200912_18_CO/goe...</td>\n",
       "    </tr>\n",
       "    <tr>\n",
       "      <th>2020-09-12 12:51:15</th>\n",
       "      <td>noaa-goes16/ABI-L2-AODC/2020/256/12/OR_ABI-L2-...</td>\n",
       "      <td>/mnt/telg/data/smoke_events/20200912_18_CO/goe...</td>\n",
       "    </tr>\n",
       "    <tr>\n",
       "      <th>2020-09-12 13:41:15</th>\n",
       "      <td>noaa-goes16/ABI-L2-AODC/2020/256/13/OR_ABI-L2-...</td>\n",
       "      <td>/mnt/telg/data/smoke_events/20200912_18_CO/goe...</td>\n",
       "    </tr>\n",
       "    <tr>\n",
       "      <th>2020-09-12 14:31:15</th>\n",
       "      <td>noaa-goes16/ABI-L2-AODC/2020/256/14/OR_ABI-L2-...</td>\n",
       "      <td>/mnt/telg/data/smoke_events/20200912_18_CO/goe...</td>\n",
       "    </tr>\n",
       "    <tr>\n",
       "      <th>2020-09-12 15:21:15</th>\n",
       "      <td>noaa-goes16/ABI-L2-AODC/2020/256/15/OR_ABI-L2-...</td>\n",
       "      <td>/mnt/telg/data/smoke_events/20200912_18_CO/goe...</td>\n",
       "    </tr>\n",
       "    <tr>\n",
       "      <th>...</th>\n",
       "      <td>...</td>\n",
       "      <td>...</td>\n",
       "    </tr>\n",
       "    <tr>\n",
       "      <th>2020-09-19 09:11:16</th>\n",
       "      <td>noaa-goes16/ABI-L2-AODC/2020/263/09/OR_ABI-L2-...</td>\n",
       "      <td>/mnt/telg/data/smoke_events/20200912_18_CO/goe...</td>\n",
       "    </tr>\n",
       "    <tr>\n",
       "      <th>2020-09-19 10:01:16</th>\n",
       "      <td>noaa-goes16/ABI-L2-AODC/2020/263/10/OR_ABI-L2-...</td>\n",
       "      <td>/mnt/telg/data/smoke_events/20200912_18_CO/goe...</td>\n",
       "    </tr>\n",
       "    <tr>\n",
       "      <th>2020-09-19 10:51:16</th>\n",
       "      <td>noaa-goes16/ABI-L2-AODC/2020/263/10/OR_ABI-L2-...</td>\n",
       "      <td>/mnt/telg/data/smoke_events/20200912_18_CO/goe...</td>\n",
       "    </tr>\n",
       "    <tr>\n",
       "      <th>2020-09-19 11:41:16</th>\n",
       "      <td>noaa-goes16/ABI-L2-AODC/2020/263/11/OR_ABI-L2-...</td>\n",
       "      <td>/mnt/telg/data/smoke_events/20200912_18_CO/goe...</td>\n",
       "    </tr>\n",
       "    <tr>\n",
       "      <th>2020-09-19 12:31:16</th>\n",
       "      <td>noaa-goes16/ABI-L2-AODC/2020/263/12/OR_ABI-L2-...</td>\n",
       "      <td>/mnt/telg/data/smoke_events/20200912_18_CO/goe...</td>\n",
       "    </tr>\n",
       "  </tbody>\n",
       "</table>\n",
       "<p>203 rows × 2 columns</p>\n",
       "</div>"
      ],
      "text/plain": [
       "                                                         path2file_aws  \\\n",
       "2020-09-12 12:01:15  noaa-goes16/ABI-L2-AODC/2020/256/12/OR_ABI-L2-...   \n",
       "2020-09-12 12:51:15  noaa-goes16/ABI-L2-AODC/2020/256/12/OR_ABI-L2-...   \n",
       "2020-09-12 13:41:15  noaa-goes16/ABI-L2-AODC/2020/256/13/OR_ABI-L2-...   \n",
       "2020-09-12 14:31:15  noaa-goes16/ABI-L2-AODC/2020/256/14/OR_ABI-L2-...   \n",
       "2020-09-12 15:21:15  noaa-goes16/ABI-L2-AODC/2020/256/15/OR_ABI-L2-...   \n",
       "...                                                                ...   \n",
       "2020-09-19 09:11:16  noaa-goes16/ABI-L2-AODC/2020/263/09/OR_ABI-L2-...   \n",
       "2020-09-19 10:01:16  noaa-goes16/ABI-L2-AODC/2020/263/10/OR_ABI-L2-...   \n",
       "2020-09-19 10:51:16  noaa-goes16/ABI-L2-AODC/2020/263/10/OR_ABI-L2-...   \n",
       "2020-09-19 11:41:16  noaa-goes16/ABI-L2-AODC/2020/263/11/OR_ABI-L2-...   \n",
       "2020-09-19 12:31:16  noaa-goes16/ABI-L2-AODC/2020/263/12/OR_ABI-L2-...   \n",
       "\n",
       "                                                       path2file_local  \n",
       "2020-09-12 12:01:15  /mnt/telg/data/smoke_events/20200912_18_CO/goe...  \n",
       "2020-09-12 12:51:15  /mnt/telg/data/smoke_events/20200912_18_CO/goe...  \n",
       "2020-09-12 13:41:15  /mnt/telg/data/smoke_events/20200912_18_CO/goe...  \n",
       "2020-09-12 14:31:15  /mnt/telg/data/smoke_events/20200912_18_CO/goe...  \n",
       "2020-09-12 15:21:15  /mnt/telg/data/smoke_events/20200912_18_CO/goe...  \n",
       "...                                                                ...  \n",
       "2020-09-19 09:11:16  /mnt/telg/data/smoke_events/20200912_18_CO/goe...  \n",
       "2020-09-19 10:01:16  /mnt/telg/data/smoke_events/20200912_18_CO/goe...  \n",
       "2020-09-19 10:51:16  /mnt/telg/data/smoke_events/20200912_18_CO/goe...  \n",
       "2020-09-19 11:41:16  /mnt/telg/data/smoke_events/20200912_18_CO/goe...  \n",
       "2020-09-19 12:31:16  /mnt/telg/data/smoke_events/20200912_18_CO/goe...  \n",
       "\n",
       "[203 rows x 2 columns]"
      ]
     },
     "execution_count": 9,
     "metadata": {},
     "output_type": "execute_result"
    }
   ],
   "source": [
    "query.workplan[::10]"
   ]
  },
  {
   "cell_type": "markdown",
   "metadata": {},
   "source": [
    "Only one file every 15 minutes"
   ]
  },
  {
   "cell_type": "code",
   "execution_count": 10,
   "metadata": {},
   "outputs": [
    {
     "data": {
      "text/html": [
       "<div>\n",
       "<style scoped>\n",
       "    .dataframe tbody tr th:only-of-type {\n",
       "        vertical-align: middle;\n",
       "    }\n",
       "\n",
       "    .dataframe tbody tr th {\n",
       "        vertical-align: top;\n",
       "    }\n",
       "\n",
       "    .dataframe thead th {\n",
       "        text-align: right;\n",
       "    }\n",
       "</style>\n",
       "<table border=\"1\" class=\"dataframe\">\n",
       "  <thead>\n",
       "    <tr style=\"text-align: right;\">\n",
       "      <th></th>\n",
       "      <th>path2file_aws</th>\n",
       "      <th>path2file_local</th>\n",
       "    </tr>\n",
       "  </thead>\n",
       "  <tbody>\n",
       "    <tr>\n",
       "      <th>2020-09-12 12:00:00</th>\n",
       "      <td>noaa-goes16/ABI-L2-AODC/2020/256/12/OR_ABI-L2-...</td>\n",
       "      <td>/mnt/telg/data/smoke_events/20200912_18_CO/goe...</td>\n",
       "    </tr>\n",
       "    <tr>\n",
       "      <th>2020-09-12 12:15:00</th>\n",
       "      <td>noaa-goes16/ABI-L2-AODC/2020/256/12/OR_ABI-L2-...</td>\n",
       "      <td>/mnt/telg/data/smoke_events/20200912_18_CO/goe...</td>\n",
       "    </tr>\n",
       "    <tr>\n",
       "      <th>2020-09-12 12:30:00</th>\n",
       "      <td>noaa-goes16/ABI-L2-AODC/2020/256/12/OR_ABI-L2-...</td>\n",
       "      <td>/mnt/telg/data/smoke_events/20200912_18_CO/goe...</td>\n",
       "    </tr>\n",
       "    <tr>\n",
       "      <th>2020-09-12 12:45:00</th>\n",
       "      <td>noaa-goes16/ABI-L2-AODC/2020/256/12/OR_ABI-L2-...</td>\n",
       "      <td>/mnt/telg/data/smoke_events/20200912_18_CO/goe...</td>\n",
       "    </tr>\n",
       "    <tr>\n",
       "      <th>2020-09-12 13:00:00</th>\n",
       "      <td>noaa-goes16/ABI-L2-AODC/2020/256/13/OR_ABI-L2-...</td>\n",
       "      <td>/mnt/telg/data/smoke_events/20200912_18_CO/goe...</td>\n",
       "    </tr>\n",
       "    <tr>\n",
       "      <th>...</th>\n",
       "      <td>...</td>\n",
       "      <td>...</td>\n",
       "    </tr>\n",
       "    <tr>\n",
       "      <th>2020-09-19 11:45:00</th>\n",
       "      <td>noaa-goes16/ABI-L2-AODC/2020/263/11/OR_ABI-L2-...</td>\n",
       "      <td>/mnt/telg/data/smoke_events/20200912_18_CO/goe...</td>\n",
       "    </tr>\n",
       "    <tr>\n",
       "      <th>2020-09-19 12:00:00</th>\n",
       "      <td>noaa-goes16/ABI-L2-AODC/2020/263/12/OR_ABI-L2-...</td>\n",
       "      <td>/mnt/telg/data/smoke_events/20200912_18_CO/goe...</td>\n",
       "    </tr>\n",
       "    <tr>\n",
       "      <th>2020-09-19 12:15:00</th>\n",
       "      <td>noaa-goes16/ABI-L2-AODC/2020/263/12/OR_ABI-L2-...</td>\n",
       "      <td>/mnt/telg/data/smoke_events/20200912_18_CO/goe...</td>\n",
       "    </tr>\n",
       "    <tr>\n",
       "      <th>2020-09-19 12:30:00</th>\n",
       "      <td>noaa-goes16/ABI-L2-AODC/2020/263/12/OR_ABI-L2-...</td>\n",
       "      <td>/mnt/telg/data/smoke_events/20200912_18_CO/goe...</td>\n",
       "    </tr>\n",
       "    <tr>\n",
       "      <th>2020-09-19 12:45:00</th>\n",
       "      <td>noaa-goes16/ABI-L2-AODC/2020/263/12/OR_ABI-L2-...</td>\n",
       "      <td>/mnt/telg/data/smoke_events/20200912_18_CO/goe...</td>\n",
       "    </tr>\n",
       "  </tbody>\n",
       "</table>\n",
       "<p>676 rows × 2 columns</p>\n",
       "</div>"
      ],
      "text/plain": [
       "                                                         path2file_aws  \\\n",
       "2020-09-12 12:00:00  noaa-goes16/ABI-L2-AODC/2020/256/12/OR_ABI-L2-...   \n",
       "2020-09-12 12:15:00  noaa-goes16/ABI-L2-AODC/2020/256/12/OR_ABI-L2-...   \n",
       "2020-09-12 12:30:00  noaa-goes16/ABI-L2-AODC/2020/256/12/OR_ABI-L2-...   \n",
       "2020-09-12 12:45:00  noaa-goes16/ABI-L2-AODC/2020/256/12/OR_ABI-L2-...   \n",
       "2020-09-12 13:00:00  noaa-goes16/ABI-L2-AODC/2020/256/13/OR_ABI-L2-...   \n",
       "...                                                                ...   \n",
       "2020-09-19 11:45:00  noaa-goes16/ABI-L2-AODC/2020/263/11/OR_ABI-L2-...   \n",
       "2020-09-19 12:00:00  noaa-goes16/ABI-L2-AODC/2020/263/12/OR_ABI-L2-...   \n",
       "2020-09-19 12:15:00  noaa-goes16/ABI-L2-AODC/2020/263/12/OR_ABI-L2-...   \n",
       "2020-09-19 12:30:00  noaa-goes16/ABI-L2-AODC/2020/263/12/OR_ABI-L2-...   \n",
       "2020-09-19 12:45:00  noaa-goes16/ABI-L2-AODC/2020/263/12/OR_ABI-L2-...   \n",
       "\n",
       "                                                       path2file_local  \n",
       "2020-09-12 12:00:00  /mnt/telg/data/smoke_events/20200912_18_CO/goe...  \n",
       "2020-09-12 12:15:00  /mnt/telg/data/smoke_events/20200912_18_CO/goe...  \n",
       "2020-09-12 12:30:00  /mnt/telg/data/smoke_events/20200912_18_CO/goe...  \n",
       "2020-09-12 12:45:00  /mnt/telg/data/smoke_events/20200912_18_CO/goe...  \n",
       "2020-09-12 13:00:00  /mnt/telg/data/smoke_events/20200912_18_CO/goe...  \n",
       "...                                                                ...  \n",
       "2020-09-19 11:45:00  /mnt/telg/data/smoke_events/20200912_18_CO/goe...  \n",
       "2020-09-19 12:00:00  /mnt/telg/data/smoke_events/20200912_18_CO/goe...  \n",
       "2020-09-19 12:15:00  /mnt/telg/data/smoke_events/20200912_18_CO/goe...  \n",
       "2020-09-19 12:30:00  /mnt/telg/data/smoke_events/20200912_18_CO/goe...  \n",
       "2020-09-19 12:45:00  /mnt/telg/data/smoke_events/20200912_18_CO/goe...  \n",
       "\n",
       "[676 rows x 2 columns]"
      ]
     },
     "execution_count": 10,
     "metadata": {},
     "output_type": "execute_result"
    }
   ],
   "source": [
    "resampled = query.workplan.resample('15min').first()\n",
    "resampled"
   ]
  },
  {
   "cell_type": "markdown",
   "metadata": {},
   "source": [
    "To update the query's workplan overwrite it with the altered one:"
   ]
  },
  {
   "cell_type": "code",
   "execution_count": 11,
   "metadata": {},
   "outputs": [],
   "source": [
    "query.workplan = resampled"
   ]
  },
  {
   "cell_type": "code",
   "execution_count": 12,
   "metadata": {},
   "outputs": [
    {
     "name": "stdout",
     "output_type": "stream",
     "text": [
      "no of files: 676\n",
      "estimated disk usage: 2512 mb\n",
      "remaining disk space after download: 48 %\n",
      "\n"
     ]
    }
   ],
   "source": [
    "print(query.info_on_current_query())"
   ]
  },
  {
   "cell_type": "markdown",
   "metadata": {},
   "source": [
    "## download the files"
   ]
  },
  {
   "cell_type": "markdown",
   "metadata": {},
   "source": [
    "To download all files in the workplan execute:"
   ]
  },
  {
   "cell_type": "code",
   "execution_count": null,
   "metadata": {},
   "outputs": [],
   "source": [
    "query.download()"
   ]
  },
  {
   "cell_type": "markdown",
   "metadata": {},
   "source": [
    "# AWS and the s3fs library"
   ]
  },
  {
   "cell_type": "markdown",
   "metadata": {},
   "source": [
    "This is an introduction into how to use the s3fs library for acessing the AWS system ... In case you don't want to use the nesdis_aws package or simply want to understand the key library in it."
   ]
  },
  {
   "cell_type": "markdown",
   "metadata": {},
   "source": [
    "## connect to file system"
   ]
  },
  {
   "cell_type": "code",
   "execution_count": 1,
   "metadata": {},
   "outputs": [],
   "source": [
    "import s3fs"
   ]
  },
  {
   "cell_type": "code",
   "execution_count": 2,
   "metadata": {},
   "outputs": [],
   "source": [
    "aws = s3fs.S3FileSystem(anon=True)"
   ]
  },
  {
   "cell_type": "markdown",
   "metadata": {},
   "source": [
    "## explore file system"
   ]
  },
  {
   "cell_type": "code",
   "execution_count": 3,
   "metadata": {},
   "outputs": [
    {
     "data": {
      "text/plain": [
       "PosixPath('noaa-goes16')"
      ]
     },
     "execution_count": 3,
     "metadata": {},
     "output_type": "execute_result"
    }
   ],
   "source": [
    "satellite = 16#16 (east) or 17(west)\n",
    "base_folder = pl.Path(f'noaa-goes{satellite}')\n",
    "base_folder"
   ]
  },
  {
   "cell_type": "markdown",
   "metadata": {},
   "source": [
    "### products"
   ]
  },
  {
   "cell_type": "code",
   "execution_count": 4,
   "metadata": {},
   "outputs": [
    {
     "data": {
      "text/plain": [
       "['noaa-goes16/ABI-L1b-RadC',\n",
       " 'noaa-goes16/ABI-L1b-RadF',\n",
       " 'noaa-goes16/ABI-L1b-RadM',\n",
       " 'noaa-goes16/ABI-L2-ACHAC',\n",
       " 'noaa-goes16/ABI-L2-ACHAF',\n",
       " 'noaa-goes16/ABI-L2-ACHAM',\n",
       " 'noaa-goes16/ABI-L2-ACHTF',\n",
       " 'noaa-goes16/ABI-L2-ACHTM',\n",
       " 'noaa-goes16/ABI-L2-ACMC',\n",
       " 'noaa-goes16/ABI-L2-ACMF',\n",
       " 'noaa-goes16/ABI-L2-ACMM',\n",
       " 'noaa-goes16/ABI-L2-ACTPC',\n",
       " 'noaa-goes16/ABI-L2-ACTPF',\n",
       " 'noaa-goes16/ABI-L2-ACTPM',\n",
       " 'noaa-goes16/ABI-L2-ADPC',\n",
       " 'noaa-goes16/ABI-L2-ADPF',\n",
       " 'noaa-goes16/ABI-L2-ADPM',\n",
       " 'noaa-goes16/ABI-L2-AICEF',\n",
       " 'noaa-goes16/ABI-L2-AITAF',\n",
       " 'noaa-goes16/ABI-L2-AODC',\n",
       " 'noaa-goes16/ABI-L2-AODF',\n",
       " 'noaa-goes16/ABI-L2-CMIPC',\n",
       " 'noaa-goes16/ABI-L2-CMIPF',\n",
       " 'noaa-goes16/ABI-L2-CMIPM',\n",
       " 'noaa-goes16/ABI-L2-CODC',\n",
       " 'noaa-goes16/ABI-L2-CODF',\n",
       " 'noaa-goes16/ABI-L2-CPSC',\n",
       " 'noaa-goes16/ABI-L2-CPSF',\n",
       " 'noaa-goes16/ABI-L2-CPSM',\n",
       " 'noaa-goes16/ABI-L2-CTPC',\n",
       " 'noaa-goes16/ABI-L2-CTPF',\n",
       " 'noaa-goes16/ABI-L2-DMWC',\n",
       " 'noaa-goes16/ABI-L2-DMWF',\n",
       " 'noaa-goes16/ABI-L2-DMWM',\n",
       " 'noaa-goes16/ABI-L2-DMWVC',\n",
       " 'noaa-goes16/ABI-L2-DMWVF',\n",
       " 'noaa-goes16/ABI-L2-DMWVM',\n",
       " 'noaa-goes16/ABI-L2-DSIC',\n",
       " 'noaa-goes16/ABI-L2-DSIF',\n",
       " 'noaa-goes16/ABI-L2-DSIM',\n",
       " 'noaa-goes16/ABI-L2-DSRC',\n",
       " 'noaa-goes16/ABI-L2-DSRF',\n",
       " 'noaa-goes16/ABI-L2-DSRM',\n",
       " 'noaa-goes16/ABI-L2-FDCC',\n",
       " 'noaa-goes16/ABI-L2-FDCF',\n",
       " 'noaa-goes16/ABI-L2-FDCM',\n",
       " 'noaa-goes16/ABI-L2-LSTC',\n",
       " 'noaa-goes16/ABI-L2-LSTF',\n",
       " 'noaa-goes16/ABI-L2-LSTM',\n",
       " 'noaa-goes16/ABI-L2-LVMPC',\n",
       " 'noaa-goes16/ABI-L2-LVMPF',\n",
       " 'noaa-goes16/ABI-L2-LVMPM',\n",
       " 'noaa-goes16/ABI-L2-LVTPC',\n",
       " 'noaa-goes16/ABI-L2-LVTPF',\n",
       " 'noaa-goes16/ABI-L2-LVTPM',\n",
       " 'noaa-goes16/ABI-L2-MCMIPC',\n",
       " 'noaa-goes16/ABI-L2-MCMIPF',\n",
       " 'noaa-goes16/ABI-L2-MCMIPM',\n",
       " 'noaa-goes16/ABI-L2-RRQPEF',\n",
       " 'noaa-goes16/ABI-L2-RSRC',\n",
       " 'noaa-goes16/ABI-L2-RSRF',\n",
       " 'noaa-goes16/ABI-L2-SSTF',\n",
       " 'noaa-goes16/ABI-L2-TPWC',\n",
       " 'noaa-goes16/ABI-L2-TPWF',\n",
       " 'noaa-goes16/ABI-L2-TPWM',\n",
       " 'noaa-goes16/ABI-L2-VAAF',\n",
       " 'noaa-goes16/Beginners_Guide_to_GOES-R_Series_Data.pdf',\n",
       " 'noaa-goes16/EXIS-L1b-SFEU',\n",
       " 'noaa-goes16/EXIS-L1b-SFXR',\n",
       " 'noaa-goes16/GLM-L2-LCFA',\n",
       " 'noaa-goes16/MAG-L1b-GEOF',\n",
       " 'noaa-goes16/SEIS-L1b-EHIS',\n",
       " 'noaa-goes16/SEIS-L1b-MPSH',\n",
       " 'noaa-goes16/SEIS-L1b-MPSL',\n",
       " 'noaa-goes16/SEIS-L1b-SGPS',\n",
       " 'noaa-goes16/SUVI-L1b-Fe093',\n",
       " 'noaa-goes16/SUVI-L1b-Fe131',\n",
       " 'noaa-goes16/SUVI-L1b-Fe171',\n",
       " 'noaa-goes16/SUVI-L1b-Fe195',\n",
       " 'noaa-goes16/SUVI-L1b-Fe284',\n",
       " 'noaa-goes16/SUVI-L1b-He303',\n",
       " 'noaa-goes16/Version1.1_Beginners_Guide_to_GOES-R_Series_Data.pdf',\n",
       " 'noaa-goes16/index.html']"
      ]
     },
     "execution_count": 4,
     "metadata": {},
     "output_type": "execute_result"
    }
   ],
   "source": [
    "products_available = aws.glob(base_folder.joinpath('*').as_posix())\n",
    "products_available"
   ]
  },
  {
   "cell_type": "markdown",
   "metadata": {},
   "source": [
    "### example product AOD conus"
   ]
  },
  {
   "cell_type": "code",
   "execution_count": 18,
   "metadata": {},
   "outputs": [],
   "source": [
    "product = 'ABI-L2-DMWVC'#'ABI-L1b-RadC'#\"ABI-L2-AODC\""
   ]
  },
  {
   "cell_type": "code",
   "execution_count": 19,
   "metadata": {},
   "outputs": [
    {
     "data": {
      "text/plain": [
       "['noaa-goes16/ABI-L2-DMWVC/2021']"
      ]
     },
     "execution_count": 19,
     "metadata": {},
     "output_type": "execute_result"
    }
   ],
   "source": [
    "years_available = aws.glob(base_folder.joinpath(product).joinpath('*').as_posix())\n",
    "years_available"
   ]
  },
  {
   "cell_type": "code",
   "execution_count": 20,
   "metadata": {},
   "outputs": [],
   "source": [
    "year = 2021"
   ]
  },
  {
   "cell_type": "code",
   "execution_count": 21,
   "metadata": {
    "tags": []
   },
   "outputs": [
    {
     "data": {
      "text/plain": [
       "['noaa-goes16/ABI-L2-DMWVC/2021/102',\n",
       " 'noaa-goes16/ABI-L2-DMWVC/2021/103',\n",
       " 'noaa-goes16/ABI-L2-DMWVC/2021/104',\n",
       " 'noaa-goes16/ABI-L2-DMWVC/2021/105',\n",
       " 'noaa-goes16/ABI-L2-DMWVC/2021/106',\n",
       " 'noaa-goes16/ABI-L2-DMWVC/2021/107',\n",
       " 'noaa-goes16/ABI-L2-DMWVC/2021/108',\n",
       " 'noaa-goes16/ABI-L2-DMWVC/2021/109',\n",
       " 'noaa-goes16/ABI-L2-DMWVC/2021/110',\n",
       " 'noaa-goes16/ABI-L2-DMWVC/2021/111',\n",
       " 'noaa-goes16/ABI-L2-DMWVC/2021/112',\n",
       " 'noaa-goes16/ABI-L2-DMWVC/2021/113']"
      ]
     },
     "execution_count": 21,
     "metadata": {},
     "output_type": "execute_result"
    }
   ],
   "source": [
    "days_available = aws.glob(base_folder.joinpath(product).joinpath(f'{year}').joinpath('*').as_posix())\n",
    "days_available"
   ]
  },
  {
   "cell_type": "code",
   "execution_count": 15,
   "metadata": {},
   "outputs": [],
   "source": [
    "day = 90"
   ]
  },
  {
   "cell_type": "code",
   "execution_count": 16,
   "metadata": {},
   "outputs": [
    {
     "data": {
      "text/plain": [
       "['noaa-goes16/ABI-L1b-RadC/2021/090/00',\n",
       " 'noaa-goes16/ABI-L1b-RadC/2021/090/01',\n",
       " 'noaa-goes16/ABI-L1b-RadC/2021/090/02',\n",
       " 'noaa-goes16/ABI-L1b-RadC/2021/090/03',\n",
       " 'noaa-goes16/ABI-L1b-RadC/2021/090/04',\n",
       " 'noaa-goes16/ABI-L1b-RadC/2021/090/05',\n",
       " 'noaa-goes16/ABI-L1b-RadC/2021/090/06',\n",
       " 'noaa-goes16/ABI-L1b-RadC/2021/090/07',\n",
       " 'noaa-goes16/ABI-L1b-RadC/2021/090/08',\n",
       " 'noaa-goes16/ABI-L1b-RadC/2021/090/09',\n",
       " 'noaa-goes16/ABI-L1b-RadC/2021/090/10',\n",
       " 'noaa-goes16/ABI-L1b-RadC/2021/090/11',\n",
       " 'noaa-goes16/ABI-L1b-RadC/2021/090/12',\n",
       " 'noaa-goes16/ABI-L1b-RadC/2021/090/13',\n",
       " 'noaa-goes16/ABI-L1b-RadC/2021/090/14',\n",
       " 'noaa-goes16/ABI-L1b-RadC/2021/090/15',\n",
       " 'noaa-goes16/ABI-L1b-RadC/2021/090/16',\n",
       " 'noaa-goes16/ABI-L1b-RadC/2021/090/17',\n",
       " 'noaa-goes16/ABI-L1b-RadC/2021/090/18',\n",
       " 'noaa-goes16/ABI-L1b-RadC/2021/090/19',\n",
       " 'noaa-goes16/ABI-L1b-RadC/2021/090/20',\n",
       " 'noaa-goes16/ABI-L1b-RadC/2021/090/21',\n",
       " 'noaa-goes16/ABI-L1b-RadC/2021/090/22',\n",
       " 'noaa-goes16/ABI-L1b-RadC/2021/090/23']"
      ]
     },
     "execution_count": 16,
     "metadata": {},
     "output_type": "execute_result"
    }
   ],
   "source": [
    "hours_available = aws.glob(base_folder.joinpath(product).joinpath(f'{year}').joinpath(f'{day:03d}').joinpath('*').as_posix())\n",
    "hours_available"
   ]
  },
  {
   "cell_type": "code",
   "execution_count": 17,
   "metadata": {},
   "outputs": [
    {
     "data": {
      "text/plain": [
       "['noaa-goes16/ABI-L1b-RadC/2021/090/09/OR_ABI-L1b-RadC-M6C01_G16_s20210900901154_e20210900903527_c20210900903571.nc',\n",
       " 'noaa-goes16/ABI-L1b-RadC/2021/090/09/OR_ABI-L1b-RadC-M6C01_G16_s20210900906154_e20210900908527_c20210900908563.nc',\n",
       " 'noaa-goes16/ABI-L1b-RadC/2021/090/09/OR_ABI-L1b-RadC-M6C01_G16_s20210900911154_e20210900913527_c20210900913562.nc',\n",
       " 'noaa-goes16/ABI-L1b-RadC/2021/090/09/OR_ABI-L1b-RadC-M6C01_G16_s20210900916154_e20210900918527_c20210900918569.nc',\n",
       " 'noaa-goes16/ABI-L1b-RadC/2021/090/09/OR_ABI-L1b-RadC-M6C01_G16_s20210900921154_e20210900923527_c20210900923566.nc',\n",
       " 'noaa-goes16/ABI-L1b-RadC/2021/090/09/OR_ABI-L1b-RadC-M6C01_G16_s20210900926154_e20210900928527_c20210900928561.nc',\n",
       " 'noaa-goes16/ABI-L1b-RadC/2021/090/09/OR_ABI-L1b-RadC-M6C01_G16_s20210900931154_e20210900933527_c20210900933574.nc',\n",
       " 'noaa-goes16/ABI-L1b-RadC/2021/090/09/OR_ABI-L1b-RadC-M6C01_G16_s20210900936154_e20210900938527_c20210900938565.nc',\n",
       " 'noaa-goes16/ABI-L1b-RadC/2021/090/09/OR_ABI-L1b-RadC-M6C01_G16_s20210900941154_e20210900943526_c20210900943563.nc',\n",
       " 'noaa-goes16/ABI-L1b-RadC/2021/090/09/OR_ABI-L1b-RadC-M6C01_G16_s20210900946154_e20210900948526_c20210900948566.nc',\n",
       " 'noaa-goes16/ABI-L1b-RadC/2021/090/09/OR_ABI-L1b-RadC-M6C01_G16_s20210900951154_e20210900953526_c20210900953563.nc',\n",
       " 'noaa-goes16/ABI-L1b-RadC/2021/090/09/OR_ABI-L1b-RadC-M6C01_G16_s20210900956153_e20210900958526_c20210900958567.nc',\n",
       " 'noaa-goes16/ABI-L1b-RadC/2021/090/09/OR_ABI-L1b-RadC-M6C02_G16_s20210900901154_e20210900903527_c20210900903552.nc',\n",
       " 'noaa-goes16/ABI-L1b-RadC/2021/090/09/OR_ABI-L1b-RadC-M6C02_G16_s20210900906154_e20210900908527_c20210900908551.nc',\n",
       " 'noaa-goes16/ABI-L1b-RadC/2021/090/09/OR_ABI-L1b-RadC-M6C02_G16_s20210900911154_e20210900913527_c20210900913552.nc',\n",
       " 'noaa-goes16/ABI-L1b-RadC/2021/090/09/OR_ABI-L1b-RadC-M6C02_G16_s20210900916154_e20210900918527_c20210900918550.nc',\n",
       " 'noaa-goes16/ABI-L1b-RadC/2021/090/09/OR_ABI-L1b-RadC-M6C02_G16_s20210900921154_e20210900923527_c20210900923554.nc',\n",
       " 'noaa-goes16/ABI-L1b-RadC/2021/090/09/OR_ABI-L1b-RadC-M6C02_G16_s20210900926154_e20210900928527_c20210900928552.nc',\n",
       " 'noaa-goes16/ABI-L1b-RadC/2021/090/09/OR_ABI-L1b-RadC-M6C02_G16_s20210900931154_e20210900933527_c20210900933551.nc',\n",
       " 'noaa-goes16/ABI-L1b-RadC/2021/090/09/OR_ABI-L1b-RadC-M6C02_G16_s20210900936154_e20210900938527_c20210900938551.nc',\n",
       " 'noaa-goes16/ABI-L1b-RadC/2021/090/09/OR_ABI-L1b-RadC-M6C02_G16_s20210900941154_e20210900943526_c20210900943553.nc',\n",
       " 'noaa-goes16/ABI-L1b-RadC/2021/090/09/OR_ABI-L1b-RadC-M6C02_G16_s20210900946154_e20210900948526_c20210900948551.nc',\n",
       " 'noaa-goes16/ABI-L1b-RadC/2021/090/09/OR_ABI-L1b-RadC-M6C02_G16_s20210900951154_e20210900953526_c20210900953552.nc',\n",
       " 'noaa-goes16/ABI-L1b-RadC/2021/090/09/OR_ABI-L1b-RadC-M6C02_G16_s20210900956153_e20210900958526_c20210900958551.nc',\n",
       " 'noaa-goes16/ABI-L1b-RadC/2021/090/09/OR_ABI-L1b-RadC-M6C03_G16_s20210900901154_e20210900903527_c20210900903567.nc',\n",
       " 'noaa-goes16/ABI-L1b-RadC/2021/090/09/OR_ABI-L1b-RadC-M6C03_G16_s20210900906154_e20210900908527_c20210900908566.nc',\n",
       " 'noaa-goes16/ABI-L1b-RadC/2021/090/09/OR_ABI-L1b-RadC-M6C03_G16_s20210900911154_e20210900913527_c20210900913567.nc',\n",
       " 'noaa-goes16/ABI-L1b-RadC/2021/090/09/OR_ABI-L1b-RadC-M6C03_G16_s20210900916154_e20210900918527_c20210900918567.nc',\n",
       " 'noaa-goes16/ABI-L1b-RadC/2021/090/09/OR_ABI-L1b-RadC-M6C03_G16_s20210900921154_e20210900923527_c20210900923563.nc',\n",
       " 'noaa-goes16/ABI-L1b-RadC/2021/090/09/OR_ABI-L1b-RadC-M6C03_G16_s20210900926154_e20210900928527_c20210900928569.nc',\n",
       " 'noaa-goes16/ABI-L1b-RadC/2021/090/09/OR_ABI-L1b-RadC-M6C03_G16_s20210900931154_e20210900933527_c20210900933568.nc',\n",
       " 'noaa-goes16/ABI-L1b-RadC/2021/090/09/OR_ABI-L1b-RadC-M6C03_G16_s20210900936154_e20210900938527_c20210900938573.nc',\n",
       " 'noaa-goes16/ABI-L1b-RadC/2021/090/09/OR_ABI-L1b-RadC-M6C03_G16_s20210900941154_e20210900943526_c20210900943569.nc',\n",
       " 'noaa-goes16/ABI-L1b-RadC/2021/090/09/OR_ABI-L1b-RadC-M6C03_G16_s20210900946154_e20210900948527_c20210900948570.nc',\n",
       " 'noaa-goes16/ABI-L1b-RadC/2021/090/09/OR_ABI-L1b-RadC-M6C03_G16_s20210900951154_e20210900953526_c20210900953568.nc',\n",
       " 'noaa-goes16/ABI-L1b-RadC/2021/090/09/OR_ABI-L1b-RadC-M6C03_G16_s20210900956153_e20210900958526_c20210900958561.nc',\n",
       " 'noaa-goes16/ABI-L1b-RadC/2021/090/09/OR_ABI-L1b-RadC-M6C04_G16_s20210900901154_e20210900903527_c20210900903556.nc',\n",
       " 'noaa-goes16/ABI-L1b-RadC/2021/090/09/OR_ABI-L1b-RadC-M6C04_G16_s20210900906154_e20210900908527_c20210900908555.nc',\n",
       " 'noaa-goes16/ABI-L1b-RadC/2021/090/09/OR_ABI-L1b-RadC-M6C04_G16_s20210900911154_e20210900913527_c20210900913557.nc',\n",
       " 'noaa-goes16/ABI-L1b-RadC/2021/090/09/OR_ABI-L1b-RadC-M6C04_G16_s20210900916154_e20210900918526_c20210900918556.nc',\n",
       " 'noaa-goes16/ABI-L1b-RadC/2021/090/09/OR_ABI-L1b-RadC-M6C04_G16_s20210900921154_e20210900923527_c20210900923556.nc',\n",
       " 'noaa-goes16/ABI-L1b-RadC/2021/090/09/OR_ABI-L1b-RadC-M6C04_G16_s20210900926154_e20210900928526_c20210900928555.nc',\n",
       " 'noaa-goes16/ABI-L1b-RadC/2021/090/09/OR_ABI-L1b-RadC-M6C04_G16_s20210900931154_e20210900933527_c20210900933555.nc',\n",
       " 'noaa-goes16/ABI-L1b-RadC/2021/090/09/OR_ABI-L1b-RadC-M6C04_G16_s20210900936154_e20210900938526_c20210900938555.nc',\n",
       " 'noaa-goes16/ABI-L1b-RadC/2021/090/09/OR_ABI-L1b-RadC-M6C04_G16_s20210900941154_e20210900943526_c20210900943556.nc',\n",
       " 'noaa-goes16/ABI-L1b-RadC/2021/090/09/OR_ABI-L1b-RadC-M6C04_G16_s20210900946154_e20210900948526_c20210900948555.nc',\n",
       " 'noaa-goes16/ABI-L1b-RadC/2021/090/09/OR_ABI-L1b-RadC-M6C04_G16_s20210900951154_e20210900953526_c20210900953554.nc',\n",
       " 'noaa-goes16/ABI-L1b-RadC/2021/090/09/OR_ABI-L1b-RadC-M6C04_G16_s20210900956153_e20210900958526_c20210900958555.nc',\n",
       " 'noaa-goes16/ABI-L1b-RadC/2021/090/09/OR_ABI-L1b-RadC-M6C05_G16_s20210900901154_e20210900903527_c20210900903564.nc',\n",
       " 'noaa-goes16/ABI-L1b-RadC/2021/090/09/OR_ABI-L1b-RadC-M6C05_G16_s20210900906154_e20210900908527_c20210900908569.nc',\n",
       " 'noaa-goes16/ABI-L1b-RadC/2021/090/09/OR_ABI-L1b-RadC-M6C05_G16_s20210900911154_e20210900913527_c20210900913570.nc',\n",
       " 'noaa-goes16/ABI-L1b-RadC/2021/090/09/OR_ABI-L1b-RadC-M6C05_G16_s20210900916154_e20210900918527_c20210900918564.nc',\n",
       " 'noaa-goes16/ABI-L1b-RadC/2021/090/09/OR_ABI-L1b-RadC-M6C05_G16_s20210900921154_e20210900923527_c20210900923569.nc',\n",
       " 'noaa-goes16/ABI-L1b-RadC/2021/090/09/OR_ABI-L1b-RadC-M6C05_G16_s20210900926154_e20210900928527_c20210900928566.nc',\n",
       " 'noaa-goes16/ABI-L1b-RadC/2021/090/09/OR_ABI-L1b-RadC-M6C05_G16_s20210900931154_e20210900933527_c20210900933564.nc',\n",
       " 'noaa-goes16/ABI-L1b-RadC/2021/090/09/OR_ABI-L1b-RadC-M6C05_G16_s20210900936154_e20210900938527_c20210900938560.nc',\n",
       " 'noaa-goes16/ABI-L1b-RadC/2021/090/09/OR_ABI-L1b-RadC-M6C05_G16_s20210900941154_e20210900943526_c20210900943566.nc',\n",
       " 'noaa-goes16/ABI-L1b-RadC/2021/090/09/OR_ABI-L1b-RadC-M6C05_G16_s20210900946154_e20210900948526_c20210900948562.nc',\n",
       " 'noaa-goes16/ABI-L1b-RadC/2021/090/09/OR_ABI-L1b-RadC-M6C05_G16_s20210900951154_e20210900953526_c20210900953573.nc',\n",
       " 'noaa-goes16/ABI-L1b-RadC/2021/090/09/OR_ABI-L1b-RadC-M6C05_G16_s20210900956153_e20210900958526_c20210900958571.nc',\n",
       " 'noaa-goes16/ABI-L1b-RadC/2021/090/09/OR_ABI-L1b-RadC-M6C06_G16_s20210900901154_e20210900903532_c20210900903561.nc',\n",
       " 'noaa-goes16/ABI-L1b-RadC/2021/090/09/OR_ABI-L1b-RadC-M6C06_G16_s20210900906154_e20210900908532_c20210900908560.nc',\n",
       " 'noaa-goes16/ABI-L1b-RadC/2021/090/09/OR_ABI-L1b-RadC-M6C06_G16_s20210900911154_e20210900913532_c20210900913565.nc',\n",
       " 'noaa-goes16/ABI-L1b-RadC/2021/090/09/OR_ABI-L1b-RadC-M6C06_G16_s20210900916154_e20210900918532_c20210900918560.nc',\n",
       " 'noaa-goes16/ABI-L1b-RadC/2021/090/09/OR_ABI-L1b-RadC-M6C06_G16_s20210900921154_e20210900923532_c20210900923560.nc',\n",
       " 'noaa-goes16/ABI-L1b-RadC/2021/090/09/OR_ABI-L1b-RadC-M6C06_G16_s20210900926154_e20210900928532_c20210900928564.nc',\n",
       " 'noaa-goes16/ABI-L1b-RadC/2021/090/09/OR_ABI-L1b-RadC-M6C06_G16_s20210900931154_e20210900933532_c20210900933560.nc',\n",
       " 'noaa-goes16/ABI-L1b-RadC/2021/090/09/OR_ABI-L1b-RadC-M6C06_G16_s20210900936154_e20210900938532_c20210900938568.nc',\n",
       " 'noaa-goes16/ABI-L1b-RadC/2021/090/09/OR_ABI-L1b-RadC-M6C06_G16_s20210900941154_e20210900943532_c20210900943559.nc',\n",
       " 'noaa-goes16/ABI-L1b-RadC/2021/090/09/OR_ABI-L1b-RadC-M6C06_G16_s20210900946154_e20210900948532_c20210900948559.nc',\n",
       " 'noaa-goes16/ABI-L1b-RadC/2021/090/09/OR_ABI-L1b-RadC-M6C06_G16_s20210900951154_e20210900953532_c20210900953561.nc',\n",
       " 'noaa-goes16/ABI-L1b-RadC/2021/090/09/OR_ABI-L1b-RadC-M6C06_G16_s20210900956153_e20210900958532_c20210900958564.nc',\n",
       " 'noaa-goes16/ABI-L1b-RadC/2021/090/09/OR_ABI-L1b-RadC-M6C07_G16_s20210900901154_e20210900903538_c20210900903582.nc',\n",
       " 'noaa-goes16/ABI-L1b-RadC/2021/090/09/OR_ABI-L1b-RadC-M6C07_G16_s20210900906154_e20210900908538_c20210900908577.nc',\n",
       " 'noaa-goes16/ABI-L1b-RadC/2021/090/09/OR_ABI-L1b-RadC-M6C07_G16_s20210900911154_e20210900913538_c20210900913573.nc',\n",
       " 'noaa-goes16/ABI-L1b-RadC/2021/090/09/OR_ABI-L1b-RadC-M6C07_G16_s20210900916154_e20210900918538_c20210900918578.nc',\n",
       " 'noaa-goes16/ABI-L1b-RadC/2021/090/09/OR_ABI-L1b-RadC-M6C07_G16_s20210900921154_e20210900923538_c20210900923579.nc',\n",
       " 'noaa-goes16/ABI-L1b-RadC/2021/090/09/OR_ABI-L1b-RadC-M6C07_G16_s20210900926154_e20210900928538_c20210900928575.nc',\n",
       " 'noaa-goes16/ABI-L1b-RadC/2021/090/09/OR_ABI-L1b-RadC-M6C07_G16_s20210900931154_e20210900933538_c20210900933576.nc',\n",
       " 'noaa-goes16/ABI-L1b-RadC/2021/090/09/OR_ABI-L1b-RadC-M6C07_G16_s20210900936154_e20210900938538_c20210900938579.nc',\n",
       " 'noaa-goes16/ABI-L1b-RadC/2021/090/09/OR_ABI-L1b-RadC-M6C07_G16_s20210900941154_e20210900943538_c20210900943573.nc',\n",
       " 'noaa-goes16/ABI-L1b-RadC/2021/090/09/OR_ABI-L1b-RadC-M6C07_G16_s20210900946154_e20210900948538_c20210900948575.nc',\n",
       " 'noaa-goes16/ABI-L1b-RadC/2021/090/09/OR_ABI-L1b-RadC-M6C07_G16_s20210900951154_e20210900953538_c20210900953575.nc',\n",
       " 'noaa-goes16/ABI-L1b-RadC/2021/090/09/OR_ABI-L1b-RadC-M6C07_G16_s20210900956153_e20210900958538_c20210900958575.nc',\n",
       " 'noaa-goes16/ABI-L1b-RadC/2021/090/09/OR_ABI-L1b-RadC-M6C08_G16_s20210900901154_e20210900903527_c20210900903580.nc',\n",
       " 'noaa-goes16/ABI-L1b-RadC/2021/090/09/OR_ABI-L1b-RadC-M6C08_G16_s20210900906154_e20210900908527_c20210900908579.nc',\n",
       " 'noaa-goes16/ABI-L1b-RadC/2021/090/09/OR_ABI-L1b-RadC-M6C08_G16_s20210900911154_e20210900913527_c20210900913590.nc',\n",
       " 'noaa-goes16/ABI-L1b-RadC/2021/090/09/OR_ABI-L1b-RadC-M6C08_G16_s20210900916154_e20210900918527_c20210900918572.nc',\n",
       " 'noaa-goes16/ABI-L1b-RadC/2021/090/09/OR_ABI-L1b-RadC-M6C08_G16_s20210900921154_e20210900923527_c20210900923583.nc',\n",
       " 'noaa-goes16/ABI-L1b-RadC/2021/090/09/OR_ABI-L1b-RadC-M6C08_G16_s20210900926154_e20210900928526_c20210900928572.nc',\n",
       " 'noaa-goes16/ABI-L1b-RadC/2021/090/09/OR_ABI-L1b-RadC-M6C08_G16_s20210900931154_e20210900933526_c20210900933598.nc',\n",
       " 'noaa-goes16/ABI-L1b-RadC/2021/090/09/OR_ABI-L1b-RadC-M6C08_G16_s20210900936154_e20210900938526_c20210900938576.nc',\n",
       " 'noaa-goes16/ABI-L1b-RadC/2021/090/09/OR_ABI-L1b-RadC-M6C08_G16_s20210900941154_e20210900943526_c20210900943586.nc',\n",
       " 'noaa-goes16/ABI-L1b-RadC/2021/090/09/OR_ABI-L1b-RadC-M6C08_G16_s20210900946154_e20210900948526_c20210900948580.nc',\n",
       " 'noaa-goes16/ABI-L1b-RadC/2021/090/09/OR_ABI-L1b-RadC-M6C08_G16_s20210900951154_e20210900953526_c20210900953578.nc',\n",
       " 'noaa-goes16/ABI-L1b-RadC/2021/090/09/OR_ABI-L1b-RadC-M6C08_G16_s20210900956153_e20210900958526_c20210900958588.nc',\n",
       " 'noaa-goes16/ABI-L1b-RadC/2021/090/09/OR_ABI-L1b-RadC-M6C09_G16_s20210900901154_e20210900903532_c20210900903584.nc',\n",
       " 'noaa-goes16/ABI-L1b-RadC/2021/090/09/OR_ABI-L1b-RadC-M6C09_G16_s20210900906154_e20210900908532_c20210900908584.nc',\n",
       " 'noaa-goes16/ABI-L1b-RadC/2021/090/09/OR_ABI-L1b-RadC-M6C09_G16_s20210900911154_e20210900913532_c20210900913593.nc',\n",
       " 'noaa-goes16/ABI-L1b-RadC/2021/090/09/OR_ABI-L1b-RadC-M6C09_G16_s20210900916154_e20210900918532_c20210900918590.nc',\n",
       " 'noaa-goes16/ABI-L1b-RadC/2021/090/09/OR_ABI-L1b-RadC-M6C09_G16_s20210900921154_e20210900923532_c20210900923587.nc',\n",
       " 'noaa-goes16/ABI-L1b-RadC/2021/090/09/OR_ABI-L1b-RadC-M6C09_G16_s20210900926154_e20210900928532_c20210900928587.nc',\n",
       " 'noaa-goes16/ABI-L1b-RadC/2021/090/09/OR_ABI-L1b-RadC-M6C09_G16_s20210900931154_e20210900933532_c20210900933586.nc',\n",
       " 'noaa-goes16/ABI-L1b-RadC/2021/090/09/OR_ABI-L1b-RadC-M6C09_G16_s20210900936154_e20210900938532_c20210900938588.nc',\n",
       " 'noaa-goes16/ABI-L1b-RadC/2021/090/09/OR_ABI-L1b-RadC-M6C09_G16_s20210900941154_e20210900943532_c20210900943589.nc',\n",
       " 'noaa-goes16/ABI-L1b-RadC/2021/090/09/OR_ABI-L1b-RadC-M6C09_G16_s20210900946154_e20210900948532_c20210900948582.nc',\n",
       " 'noaa-goes16/ABI-L1b-RadC/2021/090/09/OR_ABI-L1b-RadC-M6C09_G16_s20210900951154_e20210900953532_c20210900953585.nc',\n",
       " 'noaa-goes16/ABI-L1b-RadC/2021/090/09/OR_ABI-L1b-RadC-M6C09_G16_s20210900956153_e20210900958532_c20210900958582.nc',\n",
       " 'noaa-goes16/ABI-L1b-RadC/2021/090/09/OR_ABI-L1b-RadC-M6C10_G16_s20210900901154_e20210900903538_c20210900903573.nc',\n",
       " 'noaa-goes16/ABI-L1b-RadC/2021/090/09/OR_ABI-L1b-RadC-M6C10_G16_s20210900906154_e20210900908538_c20210900908581.nc',\n",
       " 'noaa-goes16/ABI-L1b-RadC/2021/090/09/OR_ABI-L1b-RadC-M6C10_G16_s20210900911154_e20210900913538_c20210900913580.nc',\n",
       " 'noaa-goes16/ABI-L1b-RadC/2021/090/09/OR_ABI-L1b-RadC-M6C10_G16_s20210900916154_e20210900918538_c20210900918580.nc',\n",
       " 'noaa-goes16/ABI-L1b-RadC/2021/090/09/OR_ABI-L1b-RadC-M6C10_G16_s20210900921154_e20210900923538_c20210900923572.nc',\n",
       " 'noaa-goes16/ABI-L1b-RadC/2021/090/09/OR_ABI-L1b-RadC-M6C10_G16_s20210900926154_e20210900928538_c20210900928582.nc',\n",
       " 'noaa-goes16/ABI-L1b-RadC/2021/090/09/OR_ABI-L1b-RadC-M6C10_G16_s20210900931154_e20210900933538_c20210900933578.nc',\n",
       " 'noaa-goes16/ABI-L1b-RadC/2021/090/09/OR_ABI-L1b-RadC-M6C10_G16_s20210900936154_e20210900938538_c20210900938592.nc',\n",
       " 'noaa-goes16/ABI-L1b-RadC/2021/090/09/OR_ABI-L1b-RadC-M6C10_G16_s20210900941154_e20210900943538_c20210900943583.nc',\n",
       " 'noaa-goes16/ABI-L1b-RadC/2021/090/09/OR_ABI-L1b-RadC-M6C10_G16_s20210900946154_e20210900948538_c20210900948572.nc',\n",
       " 'noaa-goes16/ABI-L1b-RadC/2021/090/09/OR_ABI-L1b-RadC-M6C10_G16_s20210900951154_e20210900953538_c20210900953583.nc',\n",
       " 'noaa-goes16/ABI-L1b-RadC/2021/090/09/OR_ABI-L1b-RadC-M6C10_G16_s20210900956153_e20210900958538_c20210900958577.nc',\n",
       " 'noaa-goes16/ABI-L1b-RadC/2021/090/09/OR_ABI-L1b-RadC-M6C11_G16_s20210900901154_e20210900903527_c20210900903577.nc',\n",
       " 'noaa-goes16/ABI-L1b-RadC/2021/090/09/OR_ABI-L1b-RadC-M6C11_G16_s20210900906154_e20210900908527_c20210900908587.nc',\n",
       " 'noaa-goes16/ABI-L1b-RadC/2021/090/09/OR_ABI-L1b-RadC-M6C11_G16_s20210900911154_e20210900913527_c20210900913577.nc',\n",
       " 'noaa-goes16/ABI-L1b-RadC/2021/090/09/OR_ABI-L1b-RadC-M6C11_G16_s20210900916154_e20210900918527_c20210900918575.nc',\n",
       " 'noaa-goes16/ABI-L1b-RadC/2021/090/09/OR_ABI-L1b-RadC-M6C11_G16_s20210900921154_e20210900923527_c20210900923581.nc',\n",
       " 'noaa-goes16/ABI-L1b-RadC/2021/090/09/OR_ABI-L1b-RadC-M6C11_G16_s20210900926154_e20210900928526_c20210900928580.nc',\n",
       " 'noaa-goes16/ABI-L1b-RadC/2021/090/09/OR_ABI-L1b-RadC-M6C11_G16_s20210900931154_e20210900933526_c20210900933581.nc',\n",
       " 'noaa-goes16/ABI-L1b-RadC/2021/090/09/OR_ABI-L1b-RadC-M6C11_G16_s20210900936154_e20210900938526_c20210900938586.nc',\n",
       " 'noaa-goes16/ABI-L1b-RadC/2021/090/09/OR_ABI-L1b-RadC-M6C11_G16_s20210900941154_e20210900943526_c20210900943579.nc',\n",
       " 'noaa-goes16/ABI-L1b-RadC/2021/090/09/OR_ABI-L1b-RadC-M6C11_G16_s20210900946154_e20210900948526_c20210900948594.nc',\n",
       " 'noaa-goes16/ABI-L1b-RadC/2021/090/09/OR_ABI-L1b-RadC-M6C11_G16_s20210900951154_e20210900953526_c20210900953588.nc',\n",
       " 'noaa-goes16/ABI-L1b-RadC/2021/090/09/OR_ABI-L1b-RadC-M6C11_G16_s20210900956153_e20210900958526_c20210900958580.nc',\n",
       " 'noaa-goes16/ABI-L1b-RadC/2021/090/09/OR_ABI-L1b-RadC-M6C12_G16_s20210900901154_e20210900903532_c20210900903586.nc',\n",
       " 'noaa-goes16/ABI-L1b-RadC/2021/090/09/OR_ABI-L1b-RadC-M6C12_G16_s20210900906154_e20210900908532_c20210900908572.nc',\n",
       " 'noaa-goes16/ABI-L1b-RadC/2021/090/09/OR_ABI-L1b-RadC-M6C12_G16_s20210900911154_e20210900913532_c20210900913587.nc',\n",
       " 'noaa-goes16/ABI-L1b-RadC/2021/090/09/OR_ABI-L1b-RadC-M6C12_G16_s20210900916154_e20210900918532_c20210900918586.nc',\n",
       " 'noaa-goes16/ABI-L1b-RadC/2021/090/09/OR_ABI-L1b-RadC-M6C12_G16_s20210900921154_e20210900923532_c20210900923575.nc',\n",
       " 'noaa-goes16/ABI-L1b-RadC/2021/090/09/OR_ABI-L1b-RadC-M6C12_G16_s20210900926154_e20210900928532_c20210900928577.nc',\n",
       " 'noaa-goes16/ABI-L1b-RadC/2021/090/09/OR_ABI-L1b-RadC-M6C12_G16_s20210900931154_e20210900933532_c20210900933584.nc',\n",
       " 'noaa-goes16/ABI-L1b-RadC/2021/090/09/OR_ABI-L1b-RadC-M6C12_G16_s20210900936154_e20210900938532_c20210900938582.nc',\n",
       " 'noaa-goes16/ABI-L1b-RadC/2021/090/09/OR_ABI-L1b-RadC-M6C12_G16_s20210900941154_e20210900943532_c20210900943575.nc',\n",
       " 'noaa-goes16/ABI-L1b-RadC/2021/090/09/OR_ABI-L1b-RadC-M6C12_G16_s20210900946154_e20210900948532_c20210900948578.nc',\n",
       " 'noaa-goes16/ABI-L1b-RadC/2021/090/09/OR_ABI-L1b-RadC-M6C12_G16_s20210900951154_e20210900953532_c20210900953581.nc',\n",
       " 'noaa-goes16/ABI-L1b-RadC/2021/090/09/OR_ABI-L1b-RadC-M6C12_G16_s20210900956153_e20210900958532_c20210900958584.nc',\n",
       " 'noaa-goes16/ABI-L1b-RadC/2021/090/09/OR_ABI-L1b-RadC-M6C13_G16_s20210900901154_e20210900903538_c20210900903599.nc',\n",
       " 'noaa-goes16/ABI-L1b-RadC/2021/090/09/OR_ABI-L1b-RadC-M6C13_G16_s20210900906154_e20210900908538_c20210900908592.nc',\n",
       " 'noaa-goes16/ABI-L1b-RadC/2021/090/09/OR_ABI-L1b-RadC-M6C13_G16_s20210900911154_e20210900913538_c20210900914002.nc',\n",
       " 'noaa-goes16/ABI-L1b-RadC/2021/090/09/OR_ABI-L1b-RadC-M6C13_G16_s20210900916154_e20210900918538_c20210900918594.nc',\n",
       " 'noaa-goes16/ABI-L1b-RadC/2021/090/09/OR_ABI-L1b-RadC-M6C13_G16_s20210900921154_e20210900923538_c20210900923594.nc',\n",
       " 'noaa-goes16/ABI-L1b-RadC/2021/090/09/OR_ABI-L1b-RadC-M6C13_G16_s20210900926154_e20210900928538_c20210900928591.nc',\n",
       " 'noaa-goes16/ABI-L1b-RadC/2021/090/09/OR_ABI-L1b-RadC-M6C13_G16_s20210900931154_e20210900933538_c20210900934002.nc',\n",
       " 'noaa-goes16/ABI-L1b-RadC/2021/090/09/OR_ABI-L1b-RadC-M6C13_G16_s20210900936154_e20210900938538_c20210900938594.nc',\n",
       " 'noaa-goes16/ABI-L1b-RadC/2021/090/09/OR_ABI-L1b-RadC-M6C13_G16_s20210900941154_e20210900943538_c20210900943594.nc',\n",
       " 'noaa-goes16/ABI-L1b-RadC/2021/090/09/OR_ABI-L1b-RadC-M6C13_G16_s20210900946154_e20210900948538_c20210900949000.nc',\n",
       " 'noaa-goes16/ABI-L1b-RadC/2021/090/09/OR_ABI-L1b-RadC-M6C13_G16_s20210900951154_e20210900953537_c20210900953599.nc',\n",
       " 'noaa-goes16/ABI-L1b-RadC/2021/090/09/OR_ABI-L1b-RadC-M6C13_G16_s20210900956153_e20210900958538_c20210900959001.nc',\n",
       " 'noaa-goes16/ABI-L1b-RadC/2021/090/09/OR_ABI-L1b-RadC-M6C14_G16_s20210900901154_e20210900903527_c20210900903595.nc',\n",
       " 'noaa-goes16/ABI-L1b-RadC/2021/090/09/OR_ABI-L1b-RadC-M6C14_G16_s20210900906154_e20210900908527_c20210900908590.nc',\n",
       " 'noaa-goes16/ABI-L1b-RadC/2021/090/09/OR_ABI-L1b-RadC-M6C14_G16_s20210900911154_e20210900913527_c20210900914005.nc',\n",
       " 'noaa-goes16/ABI-L1b-RadC/2021/090/09/OR_ABI-L1b-RadC-M6C14_G16_s20210900916154_e20210900918527_c20210900918592.nc',\n",
       " 'noaa-goes16/ABI-L1b-RadC/2021/090/09/OR_ABI-L1b-RadC-M6C14_G16_s20210900921154_e20210900923527_c20210900923599.nc',\n",
       " 'noaa-goes16/ABI-L1b-RadC/2021/090/09/OR_ABI-L1b-RadC-M6C14_G16_s20210900926154_e20210900928527_c20210900929000.nc',\n",
       " 'noaa-goes16/ABI-L1b-RadC/2021/090/09/OR_ABI-L1b-RadC-M6C14_G16_s20210900931154_e20210900933526_c20210900933593.nc',\n",
       " 'noaa-goes16/ABI-L1b-RadC/2021/090/09/OR_ABI-L1b-RadC-M6C14_G16_s20210900936154_e20210900938526_c20210900939005.nc',\n",
       " 'noaa-goes16/ABI-L1b-RadC/2021/090/09/OR_ABI-L1b-RadC-M6C14_G16_s20210900941154_e20210900943526_c20210900943597.nc',\n",
       " 'noaa-goes16/ABI-L1b-RadC/2021/090/09/OR_ABI-L1b-RadC-M6C14_G16_s20210900946154_e20210900948526_c20210900948589.nc',\n",
       " 'noaa-goes16/ABI-L1b-RadC/2021/090/09/OR_ABI-L1b-RadC-M6C14_G16_s20210900951154_e20210900953526_c20210900953593.nc',\n",
       " 'noaa-goes16/ABI-L1b-RadC/2021/090/09/OR_ABI-L1b-RadC-M6C14_G16_s20210900956153_e20210900958526_c20210900958597.nc',\n",
       " 'noaa-goes16/ABI-L1b-RadC/2021/090/09/OR_ABI-L1b-RadC-M6C15_G16_s20210900901154_e20210900903532_c20210900903593.nc',\n",
       " 'noaa-goes16/ABI-L1b-RadC/2021/090/09/OR_ABI-L1b-RadC-M6C15_G16_s20210900906154_e20210900908532_c20210900908595.nc',\n",
       " 'noaa-goes16/ABI-L1b-RadC/2021/090/09/OR_ABI-L1b-RadC-M6C15_G16_s20210900911154_e20210900913532_c20210900913597.nc',\n",
       " 'noaa-goes16/ABI-L1b-RadC/2021/090/09/OR_ABI-L1b-RadC-M6C15_G16_s20210900916154_e20210900918532_c20210900918598.nc',\n",
       " 'noaa-goes16/ABI-L1b-RadC/2021/090/09/OR_ABI-L1b-RadC-M6C15_G16_s20210900921154_e20210900923532_c20210900924004.nc',\n",
       " 'noaa-goes16/ABI-L1b-RadC/2021/090/09/OR_ABI-L1b-RadC-M6C15_G16_s20210900926154_e20210900928532_c20210900928595.nc',\n",
       " 'noaa-goes16/ABI-L1b-RadC/2021/090/09/OR_ABI-L1b-RadC-M6C15_G16_s20210900931154_e20210900933532_c20210900934006.nc',\n",
       " 'noaa-goes16/ABI-L1b-RadC/2021/090/09/OR_ABI-L1b-RadC-M6C15_G16_s20210900936154_e20210900938532_c20210900939000.nc',\n",
       " 'noaa-goes16/ABI-L1b-RadC/2021/090/09/OR_ABI-L1b-RadC-M6C15_G16_s20210900941154_e20210900943532_c20210900944001.nc',\n",
       " 'noaa-goes16/ABI-L1b-RadC/2021/090/09/OR_ABI-L1b-RadC-M6C15_G16_s20210900946154_e20210900948532_c20210900948592.nc',\n",
       " 'noaa-goes16/ABI-L1b-RadC/2021/090/09/OR_ABI-L1b-RadC-M6C15_G16_s20210900951154_e20210900953532_c20210900954006.nc',\n",
       " 'noaa-goes16/ABI-L1b-RadC/2021/090/09/OR_ABI-L1b-RadC-M6C15_G16_s20210900956153_e20210900958532_c20210900958594.nc',\n",
       " 'noaa-goes16/ABI-L1b-RadC/2021/090/09/OR_ABI-L1b-RadC-M6C16_G16_s20210900901154_e20210900903538_c20210900903590.nc',\n",
       " 'noaa-goes16/ABI-L1b-RadC/2021/090/09/OR_ABI-L1b-RadC-M6C16_G16_s20210900906154_e20210900908538_c20210900908574.nc',\n",
       " 'noaa-goes16/ABI-L1b-RadC/2021/090/09/OR_ABI-L1b-RadC-M6C16_G16_s20210900911154_e20210900913538_c20210900913583.nc',\n",
       " 'noaa-goes16/ABI-L1b-RadC/2021/090/09/OR_ABI-L1b-RadC-M6C16_G16_s20210900916154_e20210900918538_c20210900918582.nc',\n",
       " 'noaa-goes16/ABI-L1b-RadC/2021/090/09/OR_ABI-L1b-RadC-M6C16_G16_s20210900921154_e20210900923538_c20210900923591.nc',\n",
       " 'noaa-goes16/ABI-L1b-RadC/2021/090/09/OR_ABI-L1b-RadC-M6C16_G16_s20210900926154_e20210900928538_c20210900928585.nc',\n",
       " 'noaa-goes16/ABI-L1b-RadC/2021/090/09/OR_ABI-L1b-RadC-M6C16_G16_s20210900931154_e20210900933538_c20210900933589.nc',\n",
       " 'noaa-goes16/ABI-L1b-RadC/2021/090/09/OR_ABI-L1b-RadC-M6C16_G16_s20210900936154_e20210900938538_c20210900939003.nc',\n",
       " 'noaa-goes16/ABI-L1b-RadC/2021/090/09/OR_ABI-L1b-RadC-M6C16_G16_s20210900941154_e20210900943538_c20210900943592.nc',\n",
       " 'noaa-goes16/ABI-L1b-RadC/2021/090/09/OR_ABI-L1b-RadC-M6C16_G16_s20210900946154_e20210900948538_c20210900948585.nc',\n",
       " 'noaa-goes16/ABI-L1b-RadC/2021/090/09/OR_ABI-L1b-RadC-M6C16_G16_s20210900951154_e20210900953538_c20210900954004.nc',\n",
       " 'noaa-goes16/ABI-L1b-RadC/2021/090/09/OR_ABI-L1b-RadC-M6C16_G16_s20210900956153_e20210900958538_c20210900958591.nc']"
      ]
     },
     "execution_count": 17,
     "metadata": {},
     "output_type": "execute_result"
    }
   ],
   "source": [
    "hour = 9\n",
    "files_available = aws.glob(base_folder.joinpath(product).joinpath(f'{year}').joinpath(f'{day:03d}').joinpath(f'{hour:02d}').joinpath('*').as_posix())\n",
    "files_available"
   ]
  },
  {
   "cell_type": "markdown",
   "metadata": {},
   "source": [
    "## Download a file"
   ]
  },
  {
   "cell_type": "code",
   "execution_count": 48,
   "metadata": {},
   "outputs": [],
   "source": [
    "path2file_aws = pl.Path(files_available[3])\n",
    "path2folder_loc =pl.Path('/mnt/telg/tmp/aws_tmp/') "
   ]
  },
  {
   "cell_type": "code",
   "execution_count": 49,
   "metadata": {},
   "outputs": [
    {
     "data": {
      "text/plain": [
       "PosixPath('/mnt/telg/tmp/aws_tmp/OR_ABI-L2-AODC-M6_G16_s20200900916180_e20200900918553_c20200900919522.nc')"
      ]
     },
     "execution_count": 49,
     "metadata": {},
     "output_type": "execute_result"
    }
   ],
   "source": [
    "path2file_local = path2folder_loc.joinpath(path2file_aws.name)\n",
    "path2file_local"
   ]
  },
  {
   "cell_type": "code",
   "execution_count": 51,
   "metadata": {},
   "outputs": [
    {
     "data": {
      "text/plain": [
       "[None]"
      ]
     },
     "execution_count": 51,
     "metadata": {},
     "output_type": "execute_result"
    }
   ],
   "source": [
    "aws.get(path2file_aws.as_posix(), path2file_local.as_posix())"
   ]
  },
  {
   "cell_type": "code",
   "execution_count": null,
   "metadata": {},
   "outputs": [],
   "source": []
  }
 ],
 "metadata": {
  "kernelspec": {
   "display_name": "py38",
   "language": "python",
   "name": "py38"
  },
  "language_info": {
   "codemirror_mode": {
    "name": "ipython",
    "version": 3
   },
   "file_extension": ".py",
   "mimetype": "text/x-python",
   "name": "python",
   "nbconvert_exporter": "python",
   "pygments_lexer": "ipython3",
   "version": "3.8.10"
  },
  "toc-autonumbering": true,
  "toc-showcode": false,
  "toc-showmarkdowntxt": false,
  "toc-showtags": false
 },
 "nbformat": 4,
 "nbformat_minor": 4
}
